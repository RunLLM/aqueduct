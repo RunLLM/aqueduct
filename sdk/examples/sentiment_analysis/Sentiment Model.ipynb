{
 "cells": [
  {
   "cell_type": "markdown",
   "id": "213336fc-483b-4141-a07b-2e136014a5b7",
   "metadata": {},
   "source": [
    "# Sentiment Analysis using Deep Learning\n",
    "\n",
    "This is a short example of how to use the Aqueduct Platform to deploy a sentiment analysis model."
   ]
  },
  {
   "cell_type": "code",
   "execution_count": null,
   "id": "9b562c2c",
   "metadata": {},
   "outputs": [],
   "source": []
  },
  {
   "cell_type": "code",
   "execution_count": 1,
   "id": "85423345-9182-4cf3-bbb0-a4577ba59b43",
   "metadata": {},
   "outputs": [],
   "source": [
    "import aqueduct \n",
    "from aqueduct.decorator import op, check"
   ]
  },
  {
   "cell_type": "code",
   "execution_count": 2,
   "id": "24d268ae-5f1c-4c4f-b1c1-82edae8d86f8",
   "metadata": {},
   "outputs": [],
   "source": [
    "api_key = \"EGUJVMZIPL05RA6T7BFHQWDKCO1S43N2\"\n",
    "\n",
    "# You can use localhost if you're running this notebook on the same machine as your server.\n",
    "address = \"localhost:8080\""
   ]
  },
  {
   "cell_type": "code",
   "execution_count": 3,
   "id": "c1b4dd57-427e-41f2-a848-f6f5aa3e30b9",
   "metadata": {},
   "outputs": [],
   "source": [
    "client = aqueduct.Client(api_key, address)"
   ]
  },
  {
   "cell_type": "markdown",
   "id": "485902d1-b623-46a4-a1fa-f7858cadc95f",
   "metadata": {},
   "source": [
    "## Getting the Input Data"
   ]
  },
  {
   "cell_type": "code",
   "execution_count": 4,
   "id": "ef5c2917-fb4d-49c5-b7ca-9187dd8a12db",
   "metadata": {},
   "outputs": [],
   "source": [
    "warehouse = client.integration(\"aqueduct_demo\")\n",
    "reviews_table = warehouse.sql(\"select * from hotel_reviews;\")"
   ]
  },
  {
   "cell_type": "code",
   "execution_count": 5,
   "id": "b8960448-43b2-4ece-862a-b656c6466531",
   "metadata": {},
   "outputs": [
    {
     "data": {
      "text/html": [
       "<div>\n",
       "<style scoped>\n",
       "    .dataframe tbody tr th:only-of-type {\n",
       "        vertical-align: middle;\n",
       "    }\n",
       "\n",
       "    .dataframe tbody tr th {\n",
       "        vertical-align: top;\n",
       "    }\n",
       "\n",
       "    .dataframe thead th {\n",
       "        text-align: right;\n",
       "    }\n",
       "</style>\n",
       "<table border=\"1\" class=\"dataframe\">\n",
       "  <thead>\n",
       "    <tr style=\"text-align: right;\">\n",
       "      <th></th>\n",
       "      <th>hotel_name</th>\n",
       "      <th>review_date</th>\n",
       "      <th>reviewer_nationality</th>\n",
       "      <th>review</th>\n",
       "    </tr>\n",
       "  </thead>\n",
       "  <tbody>\n",
       "    <tr>\n",
       "      <th>0</th>\n",
       "      <td>H10 Itaca</td>\n",
       "      <td>2017-08-03</td>\n",
       "      <td>Australia</td>\n",
       "      <td>Damaged bathroom shower screen sealant and ti...</td>\n",
       "    </tr>\n",
       "    <tr>\n",
       "      <th>1</th>\n",
       "      <td>De Vere Devonport House</td>\n",
       "      <td>2016-03-28</td>\n",
       "      <td>United Kingdom</td>\n",
       "      <td>No Negative The location and the hotel was ver...</td>\n",
       "    </tr>\n",
       "    <tr>\n",
       "      <th>2</th>\n",
       "      <td>Ramada Plaza Milano</td>\n",
       "      <td>2016-05-15</td>\n",
       "      <td>Kosovo</td>\n",
       "      <td>No Negative Im a frequent traveler i visited m...</td>\n",
       "    </tr>\n",
       "    <tr>\n",
       "      <th>3</th>\n",
       "      <td>Aloft London Excel</td>\n",
       "      <td>2016-11-05</td>\n",
       "      <td>Canada</td>\n",
       "      <td>Only tepid water for morning shower They said ...</td>\n",
       "    </tr>\n",
       "    <tr>\n",
       "      <th>4</th>\n",
       "      <td>The Student Hotel Amsterdam City</td>\n",
       "      <td>2016-07-31</td>\n",
       "      <td>Australia</td>\n",
       "      <td>No Negative The hotel had free gym table tenni...</td>\n",
       "    </tr>\n",
       "    <tr>\n",
       "      <th>...</th>\n",
       "      <td>...</td>\n",
       "      <td>...</td>\n",
       "      <td>...</td>\n",
       "      <td>...</td>\n",
       "    </tr>\n",
       "    <tr>\n",
       "      <th>95</th>\n",
       "      <td>The Chesterfield Mayfair</td>\n",
       "      <td>2015-08-25</td>\n",
       "      <td>Denmark</td>\n",
       "      <td>Bad Reading light And light in bathNo Positive</td>\n",
       "    </tr>\n",
       "    <tr>\n",
       "      <th>96</th>\n",
       "      <td>Hotel V Nesplein</td>\n",
       "      <td>2015-08-27</td>\n",
       "      <td>Turkey</td>\n",
       "      <td>Nothing except the construction going on the s...</td>\n",
       "    </tr>\n",
       "    <tr>\n",
       "      <th>97</th>\n",
       "      <td>Le Parisis Paris Tour Eiffel</td>\n",
       "      <td>2015-10-20</td>\n",
       "      <td>Australia</td>\n",
       "      <td>When we arrived we had to bring our own baggag...</td>\n",
       "    </tr>\n",
       "    <tr>\n",
       "      <th>98</th>\n",
       "      <td>NH Amsterdam Museum Quarter</td>\n",
       "      <td>2016-01-26</td>\n",
       "      <td>Belgium</td>\n",
       "      <td>No stairs even to go the first floor Restaura...</td>\n",
       "    </tr>\n",
       "    <tr>\n",
       "      <th>99</th>\n",
       "      <td>Barcel Raval</td>\n",
       "      <td>2017-07-07</td>\n",
       "      <td>United Kingdom</td>\n",
       "      <td>Air conditioning a little zealous Nice atmosp...</td>\n",
       "    </tr>\n",
       "  </tbody>\n",
       "</table>\n",
       "<p>100 rows × 4 columns</p>\n",
       "</div>"
      ],
      "text/plain": [
       "                          hotel_name review_date reviewer_nationality  \\\n",
       "0                          H10 Itaca  2017-08-03           Australia    \n",
       "1            De Vere Devonport House  2016-03-28      United Kingdom    \n",
       "2                Ramada Plaza Milano  2016-05-15              Kosovo    \n",
       "3                 Aloft London Excel  2016-11-05              Canada    \n",
       "4   The Student Hotel Amsterdam City  2016-07-31           Australia    \n",
       "..                               ...         ...                  ...   \n",
       "95          The Chesterfield Mayfair  2015-08-25             Denmark    \n",
       "96                  Hotel V Nesplein  2015-08-27              Turkey    \n",
       "97      Le Parisis Paris Tour Eiffel  2015-10-20           Australia    \n",
       "98       NH Amsterdam Museum Quarter  2016-01-26             Belgium    \n",
       "99                      Barcel Raval  2017-07-07      United Kingdom    \n",
       "\n",
       "                                               review  \n",
       "0    Damaged bathroom shower screen sealant and ti...  \n",
       "1   No Negative The location and the hotel was ver...  \n",
       "2   No Negative Im a frequent traveler i visited m...  \n",
       "3   Only tepid water for morning shower They said ...  \n",
       "4   No Negative The hotel had free gym table tenni...  \n",
       "..                                                ...  \n",
       "95     Bad Reading light And light in bathNo Positive  \n",
       "96  Nothing except the construction going on the s...  \n",
       "97  When we arrived we had to bring our own baggag...  \n",
       "98   No stairs even to go the first floor Restaura...  \n",
       "99   Air conditioning a little zealous Nice atmosp...  \n",
       "\n",
       "[100 rows x 4 columns]"
      ]
     },
     "execution_count": 5,
     "metadata": {},
     "output_type": "execute_result"
    }
   ],
   "source": [
    "reviews_table.get()"
   ]
  },
  {
   "cell_type": "markdown",
   "id": "3a33f40a-b35a-4566-aa8a-3d8cf35128cc",
   "metadata": {},
   "source": [
    "## Applying the Model\n",
    "\n",
    "Here we use the HuggingFace Transformers package to apply a standard sentiment analysis model to our data."
   ]
  },
  {
   "cell_type": "code",
   "execution_count": 6,
   "id": "b1758f4e-fa2c-4563-a444-7fa71066afff",
   "metadata": {},
   "outputs": [
    {
     "name": "stderr",
     "output_type": "stream",
     "text": [
      "/Users/kennethxu/opt/anaconda3/envs/python38/lib/python3.8/site-packages/tqdm/auto.py:22: TqdmWarning: IProgress not found. Please update jupyter and ipywidgets. See https://ipywidgets.readthedocs.io/en/stable/user_install.html\n",
      "  from .autonotebook import tqdm as notebook_tqdm\n"
     ]
    }
   ],
   "source": [
    "from transformers import pipeline\n",
    "import pandas as pd\n",
    "import torch # this is needed to ensure that pytorch is installed.\n",
    "\n",
    "@op()\n",
    "def sentiment_prediction(reviews):\n",
    "    model = pipeline(\"sentiment-analysis\")\n",
    "    return reviews.join(pd.DataFrame(model(list(reviews['review']))))"
   ]
  },
  {
   "cell_type": "code",
   "execution_count": 7,
   "id": "63b46f88-4315-43a7-8fff-8e702848e35e",
   "metadata": {},
   "outputs": [],
   "source": [
    "sentiment_table = sentiment_prediction(reviews_table)"
   ]
  },
  {
   "cell_type": "markdown",
   "id": "f2495789-4840-4248-8250-555ff14afd05",
   "metadata": {},
   "source": [
    "Getting a preview of the results."
   ]
  },
  {
   "cell_type": "code",
   "execution_count": 8,
   "id": "dfd068d9-f433-45bd-ad48-c0725c2e93d5",
   "metadata": {},
   "outputs": [
    {
     "data": {
      "text/html": [
       "<div>\n",
       "<style scoped>\n",
       "    .dataframe tbody tr th:only-of-type {\n",
       "        vertical-align: middle;\n",
       "    }\n",
       "\n",
       "    .dataframe tbody tr th {\n",
       "        vertical-align: top;\n",
       "    }\n",
       "\n",
       "    .dataframe thead th {\n",
       "        text-align: right;\n",
       "    }\n",
       "</style>\n",
       "<table border=\"1\" class=\"dataframe\">\n",
       "  <thead>\n",
       "    <tr style=\"text-align: right;\">\n",
       "      <th></th>\n",
       "      <th>hotel_name</th>\n",
       "      <th>review_date</th>\n",
       "      <th>reviewer_nationality</th>\n",
       "      <th>review</th>\n",
       "      <th>label</th>\n",
       "      <th>score</th>\n",
       "    </tr>\n",
       "  </thead>\n",
       "  <tbody>\n",
       "    <tr>\n",
       "      <th>0</th>\n",
       "      <td>H10 Itaca</td>\n",
       "      <td>2017-08-03</td>\n",
       "      <td>Australia</td>\n",
       "      <td>Damaged bathroom shower screen sealant and ti...</td>\n",
       "      <td>POSITIVE</td>\n",
       "      <td>0.715812</td>\n",
       "    </tr>\n",
       "    <tr>\n",
       "      <th>1</th>\n",
       "      <td>De Vere Devonport House</td>\n",
       "      <td>2016-03-28</td>\n",
       "      <td>United Kingdom</td>\n",
       "      <td>No Negative The location and the hotel was ver...</td>\n",
       "      <td>POSITIVE</td>\n",
       "      <td>0.999741</td>\n",
       "    </tr>\n",
       "    <tr>\n",
       "      <th>2</th>\n",
       "      <td>Ramada Plaza Milano</td>\n",
       "      <td>2016-05-15</td>\n",
       "      <td>Kosovo</td>\n",
       "      <td>No Negative Im a frequent traveler i visited m...</td>\n",
       "      <td>POSITIVE</td>\n",
       "      <td>0.999773</td>\n",
       "    </tr>\n",
       "    <tr>\n",
       "      <th>3</th>\n",
       "      <td>Aloft London Excel</td>\n",
       "      <td>2016-11-05</td>\n",
       "      <td>Canada</td>\n",
       "      <td>Only tepid water for morning shower They said ...</td>\n",
       "      <td>NEGATIVE</td>\n",
       "      <td>0.999169</td>\n",
       "    </tr>\n",
       "    <tr>\n",
       "      <th>4</th>\n",
       "      <td>The Student Hotel Amsterdam City</td>\n",
       "      <td>2016-07-31</td>\n",
       "      <td>Australia</td>\n",
       "      <td>No Negative The hotel had free gym table tenni...</td>\n",
       "      <td>NEGATIVE</td>\n",
       "      <td>0.931378</td>\n",
       "    </tr>\n",
       "    <tr>\n",
       "      <th>...</th>\n",
       "      <td>...</td>\n",
       "      <td>...</td>\n",
       "      <td>...</td>\n",
       "      <td>...</td>\n",
       "      <td>...</td>\n",
       "      <td>...</td>\n",
       "    </tr>\n",
       "    <tr>\n",
       "      <th>95</th>\n",
       "      <td>The Chesterfield Mayfair</td>\n",
       "      <td>2015-08-25</td>\n",
       "      <td>Denmark</td>\n",
       "      <td>Bad Reading light And light in bathNo Positive</td>\n",
       "      <td>NEGATIVE</td>\n",
       "      <td>0.999340</td>\n",
       "    </tr>\n",
       "    <tr>\n",
       "      <th>96</th>\n",
       "      <td>Hotel V Nesplein</td>\n",
       "      <td>2015-08-27</td>\n",
       "      <td>Turkey</td>\n",
       "      <td>Nothing except the construction going on the s...</td>\n",
       "      <td>POSITIVE</td>\n",
       "      <td>0.999691</td>\n",
       "    </tr>\n",
       "    <tr>\n",
       "      <th>97</th>\n",
       "      <td>Le Parisis Paris Tour Eiffel</td>\n",
       "      <td>2015-10-20</td>\n",
       "      <td>Australia</td>\n",
       "      <td>When we arrived we had to bring our own baggag...</td>\n",
       "      <td>NEGATIVE</td>\n",
       "      <td>0.999032</td>\n",
       "    </tr>\n",
       "    <tr>\n",
       "      <th>98</th>\n",
       "      <td>NH Amsterdam Museum Quarter</td>\n",
       "      <td>2016-01-26</td>\n",
       "      <td>Belgium</td>\n",
       "      <td>No stairs even to go the first floor Restaura...</td>\n",
       "      <td>POSITIVE</td>\n",
       "      <td>0.996806</td>\n",
       "    </tr>\n",
       "    <tr>\n",
       "      <th>99</th>\n",
       "      <td>Barcel Raval</td>\n",
       "      <td>2017-07-07</td>\n",
       "      <td>United Kingdom</td>\n",
       "      <td>Air conditioning a little zealous Nice atmosp...</td>\n",
       "      <td>POSITIVE</td>\n",
       "      <td>0.999748</td>\n",
       "    </tr>\n",
       "  </tbody>\n",
       "</table>\n",
       "<p>100 rows × 6 columns</p>\n",
       "</div>"
      ],
      "text/plain": [
       "                          hotel_name review_date reviewer_nationality  \\\n",
       "0                          H10 Itaca  2017-08-03           Australia    \n",
       "1            De Vere Devonport House  2016-03-28      United Kingdom    \n",
       "2                Ramada Plaza Milano  2016-05-15              Kosovo    \n",
       "3                 Aloft London Excel  2016-11-05              Canada    \n",
       "4   The Student Hotel Amsterdam City  2016-07-31           Australia    \n",
       "..                               ...         ...                  ...   \n",
       "95          The Chesterfield Mayfair  2015-08-25             Denmark    \n",
       "96                  Hotel V Nesplein  2015-08-27              Turkey    \n",
       "97      Le Parisis Paris Tour Eiffel  2015-10-20           Australia    \n",
       "98       NH Amsterdam Museum Quarter  2016-01-26             Belgium    \n",
       "99                      Barcel Raval  2017-07-07      United Kingdom    \n",
       "\n",
       "                                               review     label     score  \n",
       "0    Damaged bathroom shower screen sealant and ti...  POSITIVE  0.715812  \n",
       "1   No Negative The location and the hotel was ver...  POSITIVE  0.999741  \n",
       "2   No Negative Im a frequent traveler i visited m...  POSITIVE  0.999773  \n",
       "3   Only tepid water for morning shower They said ...  NEGATIVE  0.999169  \n",
       "4   No Negative The hotel had free gym table tenni...  NEGATIVE  0.931378  \n",
       "..                                                ...       ...       ...  \n",
       "95     Bad Reading light And light in bathNo Positive  NEGATIVE  0.999340  \n",
       "96  Nothing except the construction going on the s...  POSITIVE  0.999691  \n",
       "97  When we arrived we had to bring our own baggag...  NEGATIVE  0.999032  \n",
       "98   No stairs even to go the first floor Restaura...  POSITIVE  0.996806  \n",
       "99   Air conditioning a little zealous Nice atmosp...  POSITIVE  0.999748  \n",
       "\n",
       "[100 rows x 6 columns]"
      ]
     },
     "execution_count": 8,
     "metadata": {},
     "output_type": "execute_result"
    }
   ],
   "source": [
    "sentiment_table.get()"
   ]
  },
  {
   "cell_type": "markdown",
   "id": "6d37c156-ee13-4aeb-822b-e1b6ed929135",
   "metadata": {},
   "source": [
    "## Publishing the Workflow\n",
    "Saving the predictions back to the data warehouse."
   ]
  },
  {
   "cell_type": "code",
   "execution_count": 9,
   "id": "3f535ee6-58e0-4d2b-bff9-9778371bb09b",
   "metadata": {},
   "outputs": [],
   "source": [
    "sentiment_table.save(warehouse.config(table='sentiment_pred', update_mode='replace'))"
   ]
  },
  {
   "cell_type": "markdown",
   "id": "9fdd8bc5-2089-4f7d-8f73-6c48c524128d",
   "metadata": {},
   "source": [
    "Publishing the flow to run every hour."
   ]
  },
  {
   "cell_type": "code",
   "execution_count": 10,
   "id": "e6d4dac1-5d01-4f82-a3b3-cec7124f6669",
   "metadata": {},
   "outputs": [
    {
     "ename": "KeyError",
     "evalue": "'13f6136a-9beb-4084-9061-5d53a87645e7'",
     "output_type": "error",
     "traceback": [
      "\u001b[0;31m---------------------------------------------------------------------------\u001b[0m",
      "\u001b[0;31mKeyError\u001b[0m                                  Traceback (most recent call last)",
      "Input \u001b[0;32mIn [10]\u001b[0m, in \u001b[0;36m<cell line: 1>\u001b[0;34m()\u001b[0m\n\u001b[0;32m----> 1\u001b[0m sentiment_flow \u001b[38;5;241m=\u001b[39m \u001b[43mclient\u001b[49m\u001b[38;5;241;43m.\u001b[39;49m\u001b[43mpublish_flow\u001b[49m\u001b[43m(\u001b[49m\u001b[43mname\u001b[49m\u001b[43m \u001b[49m\u001b[38;5;241;43m=\u001b[39;49m\u001b[43m \u001b[49m\u001b[38;5;124;43m\"\u001b[39;49m\u001b[38;5;124;43mDemo Customer Sentiment\u001b[39;49m\u001b[38;5;124;43m\"\u001b[39;49m\u001b[43m,\u001b[49m\u001b[43m \u001b[49m\n\u001b[1;32m      2\u001b[0m \u001b[43m                                   \u001b[49m\u001b[43martifacts\u001b[49m\u001b[43m \u001b[49m\u001b[38;5;241;43m=\u001b[39;49m\u001b[43m \u001b[49m\u001b[43m[\u001b[49m\u001b[43msentiment_table\u001b[49m\u001b[43m]\u001b[49m\u001b[43m,\u001b[49m\n\u001b[1;32m      3\u001b[0m \u001b[43m                                   \u001b[49m\u001b[43mschedule\u001b[49m\u001b[43m \u001b[49m\u001b[38;5;241;43m=\u001b[39;49m\u001b[43m \u001b[49m\u001b[43maqueduct\u001b[49m\u001b[38;5;241;43m.\u001b[39;49m\u001b[43mhourly\u001b[49m\u001b[43m(\u001b[49m\u001b[43m)\u001b[49m\u001b[43m)\u001b[49m\n",
      "File \u001b[0;32m~/opt/anaconda3/envs/python38/lib/python3.8/site-packages/aqueduct/aqueduct_client.py:281\u001b[0m, in \u001b[0;36mClient.publish_flow\u001b[0;34m(self, name, description, schedule, k_latest_runs, artifacts)\u001b[0m\n\u001b[1;32m    273\u001b[0m dag\u001b[38;5;241m.\u001b[39mmetadata \u001b[38;5;241m=\u001b[39m Metadata(\n\u001b[1;32m    274\u001b[0m     name\u001b[38;5;241m=\u001b[39mname,\n\u001b[1;32m    275\u001b[0m     description\u001b[38;5;241m=\u001b[39mdescription,\n\u001b[1;32m    276\u001b[0m     schedule\u001b[38;5;241m=\u001b[39mcron_schedule,\n\u001b[1;32m    277\u001b[0m     retention_policy\u001b[38;5;241m=\u001b[39mretention_policy,\n\u001b[1;32m    278\u001b[0m )\n\u001b[1;32m    280\u001b[0m \u001b[38;5;28;01mif\u001b[39;00m \u001b[38;5;28mself\u001b[39m\u001b[38;5;241m.\u001b[39m_in_notebook_or_console_context:\n\u001b[0;32m--> 281\u001b[0m     \u001b[43m_show_dag\u001b[49m\u001b[43m(\u001b[49m\u001b[38;5;28;43mself\u001b[39;49m\u001b[38;5;241;43m.\u001b[39;49m\u001b[43m_api_client\u001b[49m\u001b[43m,\u001b[49m\u001b[43m \u001b[49m\u001b[43mdag\u001b[49m\u001b[43m)\u001b[49m\n\u001b[1;32m    283\u001b[0m dag\u001b[38;5;241m.\u001b[39mworkflow_id \u001b[38;5;241m=\u001b[39m \u001b[38;5;28mself\u001b[39m\u001b[38;5;241m.\u001b[39m_api_client\u001b[38;5;241m.\u001b[39mregister_workflow(dag)\u001b[38;5;241m.\u001b[39mid\n\u001b[1;32m    284\u001b[0m \u001b[38;5;28;01mreturn\u001b[39;00m Flow(\n\u001b[1;32m    285\u001b[0m     \u001b[38;5;28mself\u001b[39m\u001b[38;5;241m.\u001b[39m_api_client,\n\u001b[1;32m    286\u001b[0m     connected_integrations\u001b[38;5;241m=\u001b[39m\u001b[38;5;28mself\u001b[39m\u001b[38;5;241m.\u001b[39m_connected_integrations,\n\u001b[1;32m    287\u001b[0m     dag\u001b[38;5;241m=\u001b[39mdag,\n\u001b[1;32m    288\u001b[0m     in_notebook_or_console_context\u001b[38;5;241m=\u001b[39m\u001b[38;5;28mself\u001b[39m\u001b[38;5;241m.\u001b[39m_in_notebook_or_console_context,\n\u001b[1;32m    289\u001b[0m )\n",
      "File \u001b[0;32m~/opt/anaconda3/envs/python38/lib/python3.8/site-packages/aqueduct/flow.py:161\u001b[0m, in \u001b[0;36m_show_dag\u001b[0;34m(api_client, dag, label_width, markersize, operator_color, artifact_color)\u001b[0m\n\u001b[1;32m    159\u001b[0m edge_y: List[Union[\u001b[38;5;28mfloat\u001b[39m, \u001b[38;5;28;01mNone\u001b[39;00m]] \u001b[38;5;241m=\u001b[39m []\n\u001b[1;32m    160\u001b[0m \u001b[38;5;28;01mfor\u001b[39;00m operator \u001b[38;5;129;01min\u001b[39;00m dag\u001b[38;5;241m.\u001b[39mlist_operators():\n\u001b[0;32m--> 161\u001b[0m     op \u001b[38;5;241m=\u001b[39m \u001b[43moperator_positions\u001b[49m\u001b[43m[\u001b[49m\u001b[38;5;28;43mstr\u001b[39;49m\u001b[43m(\u001b[49m\u001b[43moperator\u001b[49m\u001b[38;5;241;43m.\u001b[39;49m\u001b[43mid\u001b[49m\u001b[43m)\u001b[49m\u001b[43m]\u001b[49m\n\u001b[1;32m    162\u001b[0m     \u001b[38;5;66;03m# (x, y) coordinates are at the center of the node.\u001b[39;00m\n\u001b[1;32m    163\u001b[0m     \u001b[38;5;28;01mfor\u001b[39;00m artifact \u001b[38;5;129;01min\u001b[39;00m [\u001b[38;5;241m*\u001b[39moperator\u001b[38;5;241m.\u001b[39moutputs, \u001b[38;5;241m*\u001b[39moperator\u001b[38;5;241m.\u001b[39minputs]:\n",
      "\u001b[0;31mKeyError\u001b[0m: '13f6136a-9beb-4084-9061-5d53a87645e7'"
     ]
    }
   ],
   "source": [
    "sentiment_flow = client.publish_flow(name = \"Demo Customer Sentiment\", \n",
    "                                   artifacts = [sentiment_table],\n",
    "                                   schedule = aqueduct.hourly())"
   ]
  },
  {
   "cell_type": "code",
   "execution_count": null,
   "id": "7a15f9d8-2c4b-416c-a784-9bd6421c1ea0",
   "metadata": {},
   "outputs": [],
   "source": [
    "this is clearly a bug"
   ]
  }
 ],
 "metadata": {
  "kernelspec": {
   "display_name": "python38",
   "language": "python",
   "name": "python38"
  },
  "language_info": {
   "codemirror_mode": {
    "name": "ipython",
    "version": 3
   },
   "file_extension": ".py",
   "mimetype": "text/x-python",
   "name": "python",
   "nbconvert_exporter": "python",
   "pygments_lexer": "ipython3",
   "version": "3.8.13"
  }
 },
 "nbformat": 4,
 "nbformat_minor": 5
}
