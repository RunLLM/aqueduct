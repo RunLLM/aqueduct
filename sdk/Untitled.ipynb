{
 "cells": [
  {
   "cell_type": "code",
   "execution_count": 1,
   "id": "8b7fe34d",
   "metadata": {},
   "outputs": [],
   "source": [
    "import aqueduct"
   ]
  },
  {
   "cell_type": "code",
   "execution_count": 2,
   "id": "93027c72",
   "metadata": {},
   "outputs": [],
   "source": [
    "client = aqueduct.Client()"
   ]
  },
  {
   "cell_type": "code",
   "execution_count": 3,
   "id": "d07fe3a5",
   "metadata": {},
   "outputs": [],
   "source": [
    "db = client.integration('aqueduct_demo')"
   ]
  },
  {
   "cell_type": "code",
   "execution_count": 4,
   "id": "ae77ebb3",
   "metadata": {},
   "outputs": [],
   "source": [
    "df = db.sql('select * from wine;')"
   ]
  },
  {
   "cell_type": "code",
   "execution_count": 5,
   "id": "06e762a8",
   "metadata": {},
   "outputs": [
    {
     "name": "stdout",
     "output_type": "stream",
     "text": [
      "\n",
      "            ==================== 'aqueduct_demo query 1' Table Artifact ======================\n",
      "            {\n",
      "    \"Id\": \"100ee557-390c-4bc4-83a5-645829d7f8f8\",\n",
      "    \"Label\": \"aqueduct_demo query 1\",\n",
      "    \"Spec\": {\n",
      "        \"extract\": {\n",
      "            \"service\": \"SQLite\",\n",
      "            \"integration_id\": \"cb0c0999-aa6c-4a57-9300-d97f7477d5a2\",\n",
      "            \"parameters\": {\n",
      "                \"query\": \"select * from wine;\"\n",
      "            }\n",
      "        }\n",
      "    },\n",
      "    \"Metrics\": [],\n",
      "    \"Checks\": [],\n",
      "    \"Destinations\": []\n",
      "}\n",
      "\n"
     ]
    }
   ],
   "source": [
    "print(df)"
   ]
  },
  {
   "cell_type": "code",
   "execution_count": 6,
   "id": "538845d2",
   "metadata": {},
   "outputs": [
    {
     "name": "stdout",
     "output_type": "stream",
     "text": [
      "\n",
      "            ==================== 'aqueduct_demo query 1' Table Artifact ======================\n",
      "            {\n",
      "    \"Id\": \"100ee557-390c-4bc4-83a5-645829d7f8f8\",\n",
      "    \"Label\": \"aqueduct_demo query 1\",\n",
      "    \"Spec\": {\n",
      "        \"extract\": {\n",
      "            \"service\": \"SQLite\",\n",
      "            \"integration_id\": \"cb0c0999-aa6c-4a57-9300-d97f7477d5a2\",\n",
      "            \"parameters\": {\n",
      "                \"query\": \"select * from wine;\"\n",
      "            }\n",
      "        }\n",
      "    },\n",
      "    \"Metrics\": [],\n",
      "    \"Checks\": [],\n",
      "    \"Destinations\": []\n",
      "}\n",
      "\n"
     ]
    }
   ],
   "source": [
    "df.describe()"
   ]
  },
  {
   "cell_type": "code",
   "execution_count": null,
   "id": "b294c845",
   "metadata": {},
   "outputs": [],
   "source": []
  }
 ],
 "metadata": {
  "kernelspec": {
   "display_name": "Python 3 (ipykernel)",
   "language": "python",
   "name": "python3"
  },
  "language_info": {
   "codemirror_mode": {
    "name": "ipython",
    "version": 3
   },
   "file_extension": ".py",
   "mimetype": "text/x-python",
   "name": "python",
   "nbconvert_exporter": "python",
   "pygments_lexer": "ipython3",
   "version": "3.8.9"
  }
 },
 "nbformat": 4,
 "nbformat_minor": 5
}
