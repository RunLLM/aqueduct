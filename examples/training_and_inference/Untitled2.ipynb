{
 "cells": [
  {
   "cell_type": "code",
   "execution_count": 1,
   "id": "e6ed3445",
   "metadata": {},
   "outputs": [],
   "source": [
    "import pandas as pd\n",
    "import aqueduct as aq\n",
    "from aqueduct import op, check, metric"
   ]
  },
  {
   "cell_type": "code",
   "execution_count": 3,
   "id": "473e1388",
   "metadata": {},
   "outputs": [],
   "source": [
    "import aqueduct\n",
    "client = aqueduct.Client(\"I1ZY2AVLO5EXC7NRHGTF6JK83MPW4UD0\",\"18.222.142.191:8080\")"
   ]
  },
  {
   "cell_type": "code",
   "execution_count": 5,
   "id": "5a5f83cc",
   "metadata": {},
   "outputs": [],
   "source": [
    "pg_rds = client.integration('pg-rds')\n",
    "data = pg_rds.sql('select * from wine limit 100;')"
   ]
  },
  {
   "cell_type": "code",
   "execution_count": 6,
   "id": "c5851108",
   "metadata": {},
   "outputs": [],
   "source": [
    "@op\n",
    "def empty(data):\n",
    "    return data"
   ]
  },
  {
   "cell_type": "code",
   "execution_count": 7,
   "id": "71ff32b4",
   "metadata": {},
   "outputs": [],
   "source": [
    "result = empty(data)"
   ]
  },
  {
   "cell_type": "code",
   "execution_count": 8,
   "id": "148586be",
   "metadata": {},
   "outputs": [
    {
     "name": "stdout",
     "output_type": "stream",
     "text": [
      "Url:  http://18.222.142.191:8080/workflow/1c0a6f16-58fa-4e23-95d5-eb9e75b3ffee\n"
     ]
    },
    {
     "data": {
      "text/plain": [
       "<aqueduct.flow.Flow at 0x16c57caf0>"
      ]
     },
     "execution_count": 8,
     "metadata": {},
     "output_type": "execute_result"
    }
   ],
   "source": [
    "engine = client.integration('k8s_test')\n",
    "client.publish_flow(name=\"simple_test\", artifacts=[result], config=aq.FlowConfig(engine=engine))"
   ]
  },
  {
   "cell_type": "code",
   "execution_count": null,
   "id": "52788de9",
   "metadata": {},
   "outputs": [],
   "source": []
  }
 ],
 "metadata": {
  "kernelspec": {
   "display_name": "Python 3 (ipykernel)",
   "language": "python",
   "name": "python3"
  },
  "language_info": {
   "codemirror_mode": {
    "name": "ipython",
    "version": 3
   },
   "file_extension": ".py",
   "mimetype": "text/x-python",
   "name": "python",
   "nbconvert_exporter": "python",
   "pygments_lexer": "ipython3",
   "version": "3.10.6"
  }
 },
 "nbformat": 4,
 "nbformat_minor": 5
}
