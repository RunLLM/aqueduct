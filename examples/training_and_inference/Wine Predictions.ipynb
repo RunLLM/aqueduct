{
 "cells": [
  {
   "cell_type": "markdown",
   "id": "20ba2c65-ce3c-42d0-a0d0-9e2cc70ea5df",
   "metadata": {},
   "source": [
    "# Wine Quality Predictions"
   ]
  },
  {
   "cell_type": "markdown",
   "id": "8f5674eb-810f-4a1d-b6e7-2f48bd123ff2",
   "metadata": {},
   "source": [
    "### The Standard Model Development Process"
   ]
  },
  {
   "cell_type": "markdown",
   "id": "878572b3-eb18-411d-a701-444512a95dcd",
   "metadata": {},
   "source": [
    "There is a rich ecosystem of tools for developing and training models in Python. \n",
    "This is the fun part of data science, however we see a fundamental problem in where this process ends.\n"
   ]
  },
  {
   "cell_type": "markdown",
   "id": "061def30-6e55-451f-89cd-13ed550188ba",
   "metadata": {},
   "source": [
    "### What Happens Next?\n",
    "\n",
    "The model should make predictions that everyone can use, so they can drink better wine :) \n",
    "but delivering predictions to an organization is:\n",
    "\n",
    "1. manual, complicated and time-consuming.\n",
    "2. error prone.\n",
    "3. difficult to integrate with the business.\n",
    "\n",
    "In short, these ^ are all examples of engineering complexity\n",
    "\n",
    "We built Aqueduct, so you can deliver predictions without all the engineering complexity."
   ]
  },
  {
   "cell_type": "markdown",
   "id": "8e3cd77f-3989-46a5-b126-11b9d886d977",
   "metadata": {},
   "source": [
    "This demo should take no more than 10 minutes and show you how Aqueduct handles all of the core components of **production data science**:\n",
    "\n",
    "1) How to **deploy** a model, so you can run it anywhere \n",
    "\n",
    "2) How to **connect** your input and output data sources, so you can use the most recent input data and deliver fresh predictions where they need to be\n",
    "\n",
    "3) How you can **add tests** and detect bad predictions, before they are published to external stakeholders\n",
    "\n",
    "4) How our **web UI** helps you understand your workflows and see everything from a single surface\n",
    "\n",
    "## Getting Started"
   ]
  },
  {
   "cell_type": "code",
   "execution_count": 1,
   "id": "ae242704-4458-440b-965c-6d14eefa7bd0",
   "metadata": {},
   "outputs": [],
   "source": [
    "# pip install aqueduct-ml\n",
    "# aqueduct start"
   ]
  },
  {
   "cell_type": "code",
   "execution_count": 2,
   "id": "f24323bb-ae7c-4e78-9221-1f1872a19f83",
   "metadata": {},
   "outputs": [],
   "source": [
    "import pandas as pd\n",
    "from sklearn.linear_model import LinearRegression\n",
    "from sklearn.tree import DecisionTreeRegressor\n",
    "\n",
    "import aqueduct as aq\n",
    "from aqueduct import op, check, metric"
   ]
  },
  {
   "cell_type": "markdown",
   "id": "a0365507-a223-456d-9585-be624b5d4e61",
   "metadata": {},
   "source": [
    "### Run and scale your predictions"
   ]
  },
  {
   "cell_type": "code",
   "execution_count": 3,
   "id": "5fc4514a-294a-4056-b326-7a6ebe8b4b90",
   "metadata": {},
   "outputs": [],
   "source": [
    "@aq.op\n",
    "def featurize(df):\n",
    "    # Convert back to numeric with missing values as NaN\n",
    "    df['residual_sugar'] = pd.to_numeric(df['residual_sugar'], errors='coerce')\n",
    "    print(\"missing residual sugar values:\", df['residual_sugar'].isna().sum())\n",
    "    \n",
    "    # Replace the missing values by fitting a linear model to on other numeric columns\n",
    "    imputer = LinearRegression()\n",
    "    other_cols = df.columns[df.dtypes == 'float'].difference(['quality', 'residual_sugar', 'id'])\n",
    "    imputer.fit(df.dropna()[other_cols], df.dropna()['residual_sugar'])\n",
    "    predicted_sugar = imputer.predict(df[df['residual_sugar'].isna()][other_cols])\n",
    "    df.loc[df['residual_sugar'].isna(), 'residual_sugar'] = predicted_sugar\n",
    "    \n",
    "    # Binary encode the wine color\n",
    "    df['is_red'] = (df['color'] == 'red').astype('float')\n",
    "    return df\n",
    "\n",
    "@aq.op\n",
    "def train_and_predict(df):\n",
    "    \n",
    "    # Convert the quality column to numerica and replace the \"\\\\N\" with NaN\n",
    "    df['quality'] = pd.to_numeric(df['quality'], errors='coerce')\n",
    "    \n",
    "    # Fit a model to the columns that\n",
    "    quality_model = DecisionTreeRegressor(max_depth=3)\n",
    "    feature_columns = df.columns[df.dtypes == 'float'].difference(['quality', 'id'])\n",
    "    print(\"Feature Columns\", feature_columns)\n",
    "    quality_model.fit(df.dropna()[feature_columns], df.dropna()['quality'])\n",
    "    df['pred_quality'] = quality_model.predict(df[feature_columns])\n",
    "    return df"
   ]
  },
  {
   "cell_type": "markdown",
   "id": "6765c964-f7fe-4074-a842-22015578019e",
   "metadata": {},
   "source": [
    "Adding this decorator to your code allows Aqueduct to package up this code so it can be run as a part of a workflow anywhere (cloud, server, laptop). \n",
    "\n",
    "It’s your code; run it anywhere."
   ]
  },
  {
   "cell_type": "markdown",
   "id": "76758a63-7a50-4e51-966c-c2655c37bd7e",
   "metadata": {},
   "source": [
    "### Initializing Aqueduct Client"
   ]
  },
  {
   "cell_type": "code",
   "execution_count": 4,
   "id": "4068b8ac-f996-495b-ade7-74166d98beca",
   "metadata": {},
   "outputs": [],
   "source": [
    "import aqueduct\n",
    "client = aqueduct.Client(\"81QR4HYWFCX2G096MDZA3S5VKIO7PTNL\",\"localhost:8080\")"
   ]
  },
  {
   "cell_type": "markdown",
   "id": "233331a3-b4e6-4fce-84c8-3f3c9d02313a",
   "metadata": {},
   "source": [
    "### Connecting to your data"
   ]
  },
  {
   "cell_type": "code",
   "execution_count": 5,
   "id": "717d9130-8266-4814-a295-bb331c1e7651",
   "metadata": {},
   "outputs": [],
   "source": [
    "demodb = client.integration('aqueduct_demo')\n",
    "wines = demodb.sql(\"select * from wine;\")\n"
   ]
  },
  {
   "cell_type": "markdown",
   "id": "3fe0ac9c-4f34-4518-bc19-7ab5fd292fe2",
   "metadata": {},
   "source": [
    "### Defining the pipeline"
   ]
  },
  {
   "cell_type": "code",
   "execution_count": 6,
   "id": "9329f1b6-2157-4741-9444-606571729bca",
   "metadata": {},
   "outputs": [],
   "source": [
    "features = featurize(wines)\n",
    "predictions = train_and_predict(features)\n"
   ]
  },
  {
   "cell_type": "markdown",
   "id": "0b7ea4e5-7a7d-4a40-b6fa-e4b3b55d5aa2",
   "metadata": {},
   "source": [
    "The cool thing about this is that you can write your Python code, like you do regularly, and call your Python functions, just like you do regularly. But, now that you added the @op decorator, everything can run seamlessly as a part of an Aqueduct workflow."
   ]
  },
  {
   "cell_type": "code",
   "execution_count": 7,
   "id": "4230b0e2-d532-474c-9cf6-53601f584be9",
   "metadata": {},
   "outputs": [],
   "source": [
    "predictions.save(demodb.config(\"pred_wine_quality\", update_mode=\"replace\"))"
   ]
  },
  {
   "cell_type": "code",
   "execution_count": 8,
   "id": "03840c5e-2d5f-4f17-87b9-92e447a57b36",
   "metadata": {},
   "outputs": [
    {
     "name": "stdout",
     "output_type": "stream",
     "text": [
      "Url:  http://localhost:8080/workflow/7cbe65a5-1615-450d-87c9-682afaa70a27\n"
     ]
    },
    {
     "data": {
      "text/plain": [
       "<aqueduct.flow.Flow at 0x15080c250>"
      ]
     },
     "execution_count": 8,
     "metadata": {},
     "output_type": "execute_result"
    }
   ],
   "source": [
    "from textwrap import dedent\n",
    "client.publish_flow(\n",
    "    \"Wine Ratings\",\n",
    "    dedent(\n",
    "        \"\"\"\n",
    "        This workflow builds a model to predict missing ratings for wines\n",
    "        and then uses that model to fill in missing ratings.\n",
    "        \"\"\"),\n",
    "    schedule=aq.daily(),\n",
    "    artifacts=[predictions]\n",
    ")"
   ]
  },
  {
   "cell_type": "markdown",
   "id": "4abf11f3-b864-4bf3-9dfd-8778a2582386",
   "metadata": {},
   "source": [
    "At this point, we’ve defined a full workflow. \n",
    "1) we have told aqueduct where to get some data\n",
    "2) we have defined the transformations that execute as a part of our workflow\n",
    "3) we’ve set an output destination and published the workflow\n",
    "\n",
    "All we need to do in the cell above is provide a name and a schedule for the workflow. "
   ]
  },
  {
   "cell_type": "markdown",
   "id": "ef958159-b392-4f4b-9a02-43c871a07b50",
   "metadata": {},
   "source": [
    "This pipeline will run as scheduled and all is well in the world, until things break.\n",
    "\n",
    "Why do things break? \n",
    "We see a lot of reasons like changes in input data and model drift to name a few. \n",
    "The tricky part about these breaks is they don’t stop the predictions from being served, they just create bad predictions."
   ]
  },
  {
   "cell_type": "markdown",
   "id": "ca03966b-c46e-488b-ade1-841cc87f8043",
   "metadata": {},
   "source": [
    "### Monitoring your pipeline with Metrics and Checks"
   ]
  },
  {
   "cell_type": "markdown",
   "id": "639e5d81-330b-4168-a161-941c3348fdbe",
   "metadata": {},
   "source": [
    "Now what we can do, is update our workflow and put in metrics and checks, to ensure our workflow runs as expected and delivers accurate predictions. \n",
    "\n",
    "The neat part about this is you can define exactly what “wrong” looks like and get notified or even stop your pipeline from publishing the predictions when things go wrong."
   ]
  },
  {
   "cell_type": "code",
   "execution_count": 9,
   "id": "78165d0e-67d5-4e06-b1e8-46fcfe590314",
   "metadata": {},
   "outputs": [],
   "source": [
    "@aq.metric()\n",
    "def get_rmse(df):\n",
    "    import numpy as np\n",
    "    residuals = (df['quality'] - df['pred_quality']).dropna()\n",
    "    print(\"Computing error using:\", len(residuals), \"rows.\")\n",
    "    return np.sqrt((residuals * residuals).mean())"
   ]
  },
  {
   "cell_type": "code",
   "execution_count": 10,
   "id": "cd98d9e0-f564-4a4b-8ded-a919950db21d",
   "metadata": {},
   "outputs": [
    {
     "data": {
      "text/plain": [
       "<aqueduct.check_artifact.CheckArtifact at 0x150831bb0>"
      ]
     },
     "execution_count": 10,
     "metadata": {},
     "output_type": "execute_result"
    }
   ],
   "source": [
    "rmse = get_rmse(predictions)\n",
    "rmse.bound(upper = 1.0)\n",
    "rmse.bound(upper = 3.0, severity=\"error\")"
   ]
  },
  {
   "cell_type": "code",
   "execution_count": 11,
   "id": "473496c7-abe6-405e-be24-a0eab1c79c99",
   "metadata": {},
   "outputs": [
    {
     "name": "stdout",
     "output_type": "stream",
     "text": [
      "Url:  http://localhost:8080/workflow/7cbe65a5-1615-450d-87c9-682afaa70a27\n"
     ]
    },
    {
     "data": {
      "text/plain": [
       "<aqueduct.flow.Flow at 0x150859850>"
      ]
     },
     "execution_count": 11,
     "metadata": {},
     "output_type": "execute_result"
    }
   ],
   "source": [
    "client.publish_flow(\n",
    "    \"Wine Ratings\",\n",
    "    dedent(\n",
    "        \"\"\"\n",
    "        This workflow builds a model to predict missing ratings for wines\n",
    "        and then uses that model to fill in missing ratings.\n",
    "        \"\"\"),\n",
    "    schedule=aq.daily(),\n",
    "    artifacts=[predictions, rmse]\n",
    ")\n"
   ]
  },
  {
   "cell_type": "markdown",
   "id": "08ae66da-d4b9-46d5-bdc2-9bb0721e5f13",
   "metadata": {},
   "source": [
    "Aqueduct makes it easy to check your predictions so you can:\n",
    "\n",
    "1. Prevent publication of bad predictions.\n",
    "2. Know when, where and why your pipelines fail, so you can easily see what has been impacted, locate the error and fix it.\n",
    "\n",
    "We let you *Sleep at night!*\n",
    "\n",
    "Now onto the UI"
   ]
  }
 ],
 "metadata": {
  "kernelspec": {
   "display_name": "Python 3 (ipykernel)",
   "language": "python",
   "name": "python3"
  },
  "language_info": {
   "codemirror_mode": {
    "name": "ipython",
    "version": 3
   },
   "file_extension": ".py",
   "mimetype": "text/x-python",
   "name": "python",
   "nbconvert_exporter": "python",
   "pygments_lexer": "ipython3",
   "version": "3.9.10"
  }
 },
 "nbformat": 4,
 "nbformat_minor": 5
}
