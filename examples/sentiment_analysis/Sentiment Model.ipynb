{
 "cells": [
  {
   "cell_type": "markdown",
   "id": "213336fc-483b-4141-a07b-2e136014a5b7",
   "metadata": {},
   "source": [
    "# Sentiment Analysis using Deep Learning\n",
    "\n",
    "This is a short example of how to use Aqueduct to deploy a sentiment analysis model.\n",
    "\n",
    "**Note: This example workflow uses HuggingFace's [Transformers](https://huggingface.co/docs/transformers/index) package, which uses large models. If you're running on a resource constrained machine, or if you're running on an M1 Mac using Rosetta, you will likely run out of memory for these models. We recommend using another example workflow if this is the case.**"
   ]
  },
  {
   "cell_type": "code",
   "execution_count": 1,
   "id": "85423345-9182-4cf3-bbb0-a4577ba59b43",
   "metadata": {},
   "outputs": [],
   "source": [
    "import aqueduct \n",
    "from aqueduct.decorator import op, check"
   ]
  },
  {
   "cell_type": "code",
   "execution_count": 2,
   "id": "24d268ae-5f1c-4c4f-b1c1-82edae8d86f8",
   "metadata": {},
   "outputs": [],
   "source": [
    "# If you're running your notebook on a separate machine from your \n",
    "# Aqueduct server, change this to the address of your Aqueduct server.\n",
    "address = \"http://localhost:8080\"\n",
    "\n",
    "# If you're running youre notebook on a separate machine from your \n",
    "# Aqueduct server, you will have to copy your API key here rather than\n",
    "# using `get_apikey()`.\n",
    "api_key = aqueduct.get_apikey()"
   ]
  },
  {
   "cell_type": "code",
   "execution_count": 3,
   "id": "c1b4dd57-427e-41f2-a848-f6f5aa3e30b9",
   "metadata": {},
   "outputs": [],
   "source": [
    "client = aqueduct.Client(api_key, address)"
   ]
  },
  {
   "cell_type": "markdown",
   "id": "485902d1-b623-46a4-a1fa-f7858cadc95f",
   "metadata": {},
   "source": [
    "## Getting the Input Data"
   ]
  },
  {
   "cell_type": "markdown",
   "id": "ae71e092",
   "metadata": {},
   "source": [
    "First, we'll load some test data. Here, we'll use a dataset that has reviews of various hotels; our table has the name of the hotel, the date of the review, the nationality of the reviewer, and the text of the review itself. This data is preloaded for us in the [Aqueduct demo DB](https://docs.aqueducthq.com/example-workflows/demo-data-warehouse)."
   ]
  },
  {
   "cell_type": "code",
   "execution_count": 4,
   "id": "ef5c2917-fb4d-49c5-b7ca-9187dd8a12db",
   "metadata": {},
   "outputs": [],
   "source": [
    "warehouse = client.integration(\"aqueduct_demo\")\n",
    "\n",
    "# reviews_table is an Aqueduct TableArtifact, which is a wrapper around\n",
    "# a Pandas DataFrame. A TableArtifact can be used as argument to any operator\n",
    "# in a workflow; you can also call .get() on a TableArtifact to retrieve\n",
    "# the underlying DataFrame and interact with it directly.\n",
    "reviews_table = warehouse.sql(\"select * from hotel_reviews;\")"
   ]
  },
  {
   "cell_type": "code",
   "execution_count": 5,
   "id": "b8960448-43b2-4ece-862a-b656c6466531",
   "metadata": {},
   "outputs": [
    {
     "data": {
      "text/html": [
       "<div>\n",
       "<style scoped>\n",
       "    .dataframe tbody tr th:only-of-type {\n",
       "        vertical-align: middle;\n",
       "    }\n",
       "\n",
       "    .dataframe tbody tr th {\n",
       "        vertical-align: top;\n",
       "    }\n",
       "\n",
       "    .dataframe thead th {\n",
       "        text-align: right;\n",
       "    }\n",
       "</style>\n",
       "<table border=\"1\" class=\"dataframe\">\n",
       "  <thead>\n",
       "    <tr style=\"text-align: right;\">\n",
       "      <th></th>\n",
       "      <th>hotel_name</th>\n",
       "      <th>review_date</th>\n",
       "      <th>reviewer_nationality</th>\n",
       "      <th>review</th>\n",
       "    </tr>\n",
       "  </thead>\n",
       "  <tbody>\n",
       "    <tr>\n",
       "      <th>0</th>\n",
       "      <td>H10 Itaca</td>\n",
       "      <td>2017-08-03</td>\n",
       "      <td>Australia</td>\n",
       "      <td>Damaged bathroom shower screen sealant and ti...</td>\n",
       "    </tr>\n",
       "    <tr>\n",
       "      <th>1</th>\n",
       "      <td>De Vere Devonport House</td>\n",
       "      <td>2016-03-28</td>\n",
       "      <td>United Kingdom</td>\n",
       "      <td>No Negative The location and the hotel was ver...</td>\n",
       "    </tr>\n",
       "    <tr>\n",
       "      <th>2</th>\n",
       "      <td>Ramada Plaza Milano</td>\n",
       "      <td>2016-05-15</td>\n",
       "      <td>Kosovo</td>\n",
       "      <td>No Negative Im a frequent traveler i visited m...</td>\n",
       "    </tr>\n",
       "    <tr>\n",
       "      <th>3</th>\n",
       "      <td>Aloft London Excel</td>\n",
       "      <td>2016-11-05</td>\n",
       "      <td>Canada</td>\n",
       "      <td>Only tepid water for morning shower They said ...</td>\n",
       "    </tr>\n",
       "    <tr>\n",
       "      <th>4</th>\n",
       "      <td>The Student Hotel Amsterdam City</td>\n",
       "      <td>2016-07-31</td>\n",
       "      <td>Australia</td>\n",
       "      <td>No Negative The hotel had free gym table tenni...</td>\n",
       "    </tr>\n",
       "    <tr>\n",
       "      <th>...</th>\n",
       "      <td>...</td>\n",
       "      <td>...</td>\n",
       "      <td>...</td>\n",
       "      <td>...</td>\n",
       "    </tr>\n",
       "    <tr>\n",
       "      <th>95</th>\n",
       "      <td>The Chesterfield Mayfair</td>\n",
       "      <td>2015-08-25</td>\n",
       "      <td>Denmark</td>\n",
       "      <td>Bad Reading light And light in bathNo Positive</td>\n",
       "    </tr>\n",
       "    <tr>\n",
       "      <th>96</th>\n",
       "      <td>Hotel V Nesplein</td>\n",
       "      <td>2015-08-27</td>\n",
       "      <td>Turkey</td>\n",
       "      <td>Nothing except the construction going on the s...</td>\n",
       "    </tr>\n",
       "    <tr>\n",
       "      <th>97</th>\n",
       "      <td>Le Parisis Paris Tour Eiffel</td>\n",
       "      <td>2015-10-20</td>\n",
       "      <td>Australia</td>\n",
       "      <td>When we arrived we had to bring our own baggag...</td>\n",
       "    </tr>\n",
       "    <tr>\n",
       "      <th>98</th>\n",
       "      <td>NH Amsterdam Museum Quarter</td>\n",
       "      <td>2016-01-26</td>\n",
       "      <td>Belgium</td>\n",
       "      <td>No stairs even to go the first floor Restaura...</td>\n",
       "    </tr>\n",
       "    <tr>\n",
       "      <th>99</th>\n",
       "      <td>Barcel Raval</td>\n",
       "      <td>2017-07-07</td>\n",
       "      <td>United Kingdom</td>\n",
       "      <td>Air conditioning a little zealous Nice atmosp...</td>\n",
       "    </tr>\n",
       "  </tbody>\n",
       "</table>\n",
       "<p>100 rows × 4 columns</p>\n",
       "</div>"
      ],
      "text/plain": [
       "                          hotel_name review_date reviewer_nationality  \\\n",
       "0                          H10 Itaca  2017-08-03           Australia    \n",
       "1            De Vere Devonport House  2016-03-28      United Kingdom    \n",
       "2                Ramada Plaza Milano  2016-05-15              Kosovo    \n",
       "3                 Aloft London Excel  2016-11-05              Canada    \n",
       "4   The Student Hotel Amsterdam City  2016-07-31           Australia    \n",
       "..                               ...         ...                  ...   \n",
       "95          The Chesterfield Mayfair  2015-08-25             Denmark    \n",
       "96                  Hotel V Nesplein  2015-08-27              Turkey    \n",
       "97      Le Parisis Paris Tour Eiffel  2015-10-20           Australia    \n",
       "98       NH Amsterdam Museum Quarter  2016-01-26             Belgium    \n",
       "99                      Barcel Raval  2017-07-07      United Kingdom    \n",
       "\n",
       "                                               review  \n",
       "0    Damaged bathroom shower screen sealant and ti...  \n",
       "1   No Negative The location and the hotel was ver...  \n",
       "2   No Negative Im a frequent traveler i visited m...  \n",
       "3   Only tepid water for morning shower They said ...  \n",
       "4   No Negative The hotel had free gym table tenni...  \n",
       "..                                                ...  \n",
       "95     Bad Reading light And light in bathNo Positive  \n",
       "96  Nothing except the construction going on the s...  \n",
       "97  When we arrived we had to bring our own baggag...  \n",
       "98   No stairs even to go the first floor Restaura...  \n",
       "99   Air conditioning a little zealous Nice atmosp...  \n",
       "\n",
       "[100 rows x 4 columns]"
      ]
     },
     "execution_count": 5,
     "metadata": {},
     "output_type": "execute_result"
    }
   ],
   "source": [
    "# This gets the head of the underlying DataFrame. Note that you can't\n",
    "# pass a DataFrame as an argument to a workflow; you must use the Aqueduct\n",
    "# TableArtifact!\n",
    "reviews_table.get()"
   ]
  },
  {
   "cell_type": "markdown",
   "id": "3a33f40a-b35a-4566-aa8a-3d8cf35128cc",
   "metadata": {},
   "source": [
    "## Applying the Model\n",
    "\n",
    "Now that we have our data, we'll define an Aqueduct operator called `sentiment_prediction` that takes in our reviews data and appends a positive or negative label to the table as well as a score rating how positive or negative the review was."
   ]
  },
  {
   "cell_type": "code",
   "execution_count": 6,
   "id": "b1758f4e-fa2c-4563-a444-7fa71066afff",
   "metadata": {},
   "outputs": [
    {
     "name": "stderr",
     "output_type": "stream",
     "text": [
      "/Users/vikram/Library/Python/3.8/lib/python/site-packages/transformers/image_utils.py:222: DeprecationWarning: BILINEAR is deprecated and will be removed in Pillow 10 (2023-07-01). Use Resampling.BILINEAR instead.\n",
      "  def resize(self, image, size, resample=PIL.Image.BILINEAR, default_to_square=True, max_size=None):\n"
     ]
    }
   ],
   "source": [
    "from transformers import pipeline\n",
    "import pandas as pd\n",
    "import torch # this is needed to ensure that pytorch is installed.\n",
    "\n",
    "# The @op decorator here allows Aqueduct to run this function as \n",
    "# a part of the Aqueduct workflow. It tells Aqueduct that when \n",
    "# we execute this function, we're defining a step in the workflow.\n",
    "# While the results can be retrieved immediately, nothing is \n",
    "# published until we call `publish_flow()` below.\n",
    "@op()\n",
    "def sentiment_prediction(reviews):\n",
    "    '''\n",
    "    This function uses the HuggingFace transformers library's sentiment-analysis\n",
    "    model to predict the positive or negative sentiment of the reviews passed in\n",
    "    to this function. The reviews argument is expected to have a `review` column\n",
    "    and can have any other additional columns. \n",
    "    \n",
    "    This function will append the sentiment prediction as a column to the original \n",
    "    DataFrame.\n",
    "    '''\n",
    "    model = pipeline(\"sentiment-analysis\")\n",
    "    return reviews.join(pd.DataFrame(model(list(reviews['review']))))"
   ]
  },
  {
   "cell_type": "code",
   "execution_count": 7,
   "id": "63b46f88-4315-43a7-8fff-8e702848e35e",
   "metadata": {},
   "outputs": [],
   "source": [
    "# This tells Aqueduct to execute sentiment_prediction on reviews_table \n",
    "# as a part of our workflow. However, nothing is published (yet) until we \n",
    "# call `publish_flow()` below.\n",
    "sentiment_table = sentiment_prediction(reviews_table)"
   ]
  },
  {
   "cell_type": "markdown",
   "id": "f2495789-4840-4248-8250-555ff14afd05",
   "metadata": {},
   "source": [
    "We can see all the positive or negative labels as well as the numerical score generated by our sentiment model by calling `.get()` on the `sentiment_table`:"
   ]
  },
  {
   "cell_type": "code",
   "execution_count": 8,
   "id": "dfd068d9-f433-45bd-ad48-c0725c2e93d5",
   "metadata": {},
   "outputs": [
    {
     "name": "stdout",
     "output_type": "stream",
     "text": [
      "Operator sentiment_prediction Logs:\n",
      "stdout:\n",
      "\n",
      "            --------------------------\n",
      "            stderr:\n",
      "            \r",
      "Downloading:   0%|          | 0.00/629 [00:00<?, ?B/s]\r",
      "Downloading: 100%|##########| 629/629 [00:00<00:00, 202kB/s]\n",
      "\r",
      "Downloading:   0%|          | 0.00/255M [00:00<?, ?B/s]\r",
      "Downloading:   0%|          | 739k/255M [00:00<00:35, 7.56MB/s]\r",
      "Downloading:   2%|1         | 4.75M/255M [00:00<00:09, 27.9MB/s]\r",
      "Downloading:   4%|3         | 9.83M/255M [00:00<00:06, 39.5MB/s]\r",
      "Downloading:   6%|5         | 15.1M/255M [00:00<00:05, 45.5MB/s]\r",
      "Downloading:   8%|7         | 20.2M/255M [00:00<00:05, 48.7MB/s]\r",
      "Downloading:  10%|9         | 25.4M/255M [00:00<00:04, 50.7MB/s]\r",
      "Downloading:  12%|#2        | 30.7M/255M [00:00<00:04, 52.1MB/s]\r",
      "Downloading:  14%|#4        | 35.8M/255M [00:00<00:04, 52.7MB/s]\r",
      "Downloading:  16%|#6        | 41.2M/255M [00:00<00:04, 53.9MB/s]\r",
      "Downloading:  18%|#8        | 46.7M/255M [00:01<00:04, 52.2MB/s]\r",
      "Downloading:  20%|##        | 52.1M/255M [00:01<00:03, 53.6MB/s]\r",
      "Downloading:  23%|##2       | 57.6M/255M [00:01<00:03, 54.6MB/s]\r",
      "Downloading:  25%|##4       | 63.1M/255M [00:01<00:03, 55.6MB/s]\r",
      "Downloading:  27%|##6       | 68.5M/255M [00:01<00:03, 56.0MB/s]\r",
      "Downloading:  29%|##8       | 73.9M/255M [00:01<00:03, 56.2MB/s]\r",
      "Downloading:  31%|###1      | 79.4M/255M [00:01<00:03, 56.5MB/s]\r",
      "Downloading:  33%|###3      | 84.9M/255M [00:01<00:03, 56.8MB/s]\r",
      "Downloading:  35%|###5      | 90.3M/255M [00:01<00:03, 56.9MB/s]\r",
      "Downloading:  37%|###7      | 95.8M/255M [00:01<00:02, 57.0MB/s]\r",
      "Downloading:  40%|###9      | 101M/255M [00:02<00:02, 57.1MB/s] \r",
      "Downloading:  42%|####1     | 107M/255M [00:02<00:02, 57.0MB/s]\r",
      "Downloading:  44%|####3     | 112M/255M [00:02<00:02, 56.9MB/s]\r",
      "Downloading:  46%|####6     | 118M/255M [00:02<00:02, 56.9MB/s]\r",
      "Downloading:  48%|####8     | 123M/255M [00:02<00:02, 54.1MB/s]\r",
      "Downloading:  50%|#####     | 128M/255M [00:02<00:02, 54.5MB/s]\r",
      "Downloading:  52%|#####2    | 134M/255M [00:02<00:02, 55.5MB/s]\r",
      "Downloading:  54%|#####4    | 139M/255M [00:02<00:02, 55.7MB/s]\r",
      "Downloading:  57%|#####6    | 145M/255M [00:02<00:02, 56.0MB/s]\r",
      "Downloading:  59%|#####8    | 150M/255M [00:02<00:01, 56.0MB/s]\r",
      "Downloading:  61%|######    | 155M/255M [00:03<00:01, 56.2MB/s]\r",
      "Downloading:  63%|######2   | 161M/255M [00:03<00:01, 52.0MB/s]\r",
      "Downloading:  65%|######5   | 166M/255M [00:03<00:01, 53.7MB/s]\r",
      "Downloading:  67%|######7   | 172M/255M [00:03<00:01, 54.6MB/s]\r",
      "Downloading:  69%|######9   | 177M/255M [00:03<00:01, 55.2MB/s]\r",
      "Downloading:  71%|#######1  | 183M/255M [00:03<00:01, 56.0MB/s]\r",
      "Downloading:  74%|#######3  | 188M/255M [00:03<00:01, 55.9MB/s]\r",
      "Downloading:  76%|#######5  | 193M/255M [00:03<00:01, 56.1MB/s]\r",
      "Downloading:  78%|#######7  | 199M/255M [00:03<00:01, 56.3MB/s]\r",
      "Downloading:  80%|#######9  | 204M/255M [00:03<00:00, 56.4MB/s]\r",
      "Downloading:  82%|########2 | 210M/255M [00:04<00:00, 56.5MB/s]\r",
      "Downloading:  84%|########4 | 215M/255M [00:04<00:00, 56.9MB/s]\r",
      "Downloading:  86%|########6 | 221M/255M [00:04<00:00, 55.1MB/s]\r",
      "Downloading:  88%|########8 | 226M/255M [00:04<00:00, 55.0MB/s]\r",
      "Downloading:  91%|######### | 231M/255M [00:04<00:00, 55.8MB/s]\r",
      "Downloading:  93%|#########2| 237M/255M [00:04<00:00, 56.1MB/s]\r",
      "Downloading:  95%|#########4| 242M/255M [00:04<00:00, 56.5MB/s]\r",
      "Downloading:  97%|#########6| 248M/255M [00:04<00:00, 54.7MB/s]\r",
      "Downloading:  99%|#########8| 253M/255M [00:04<00:00, 54.0MB/s]\r",
      "Downloading: 100%|##########| 255M/255M [00:04<00:00, 54.2MB/s]\n",
      "\r",
      "Downloading:   0%|          | 0.00/48.0 [00:00<?, ?B/s]\r",
      "Downloading: 100%|##########| 48.0/48.0 [00:00<00:00, 14.6kB/s]\n",
      "\r",
      "Downloading:   0%|          | 0.00/226k [00:00<?, ?B/s]\r",
      "Downloading:  12%|#2        | 28.0k/226k [00:00<00:01, 189kB/s]\r",
      "Downloading:  88%|########7 | 198k/226k [00:00<00:00, 747kB/s] \r",
      "Downloading: 100%|##########| 226k/226k [00:00<00:00, 738kB/s]\n",
      "\n",
      "\n"
     ]
    },
    {
     "data": {
      "text/html": [
       "<div>\n",
       "<style scoped>\n",
       "    .dataframe tbody tr th:only-of-type {\n",
       "        vertical-align: middle;\n",
       "    }\n",
       "\n",
       "    .dataframe tbody tr th {\n",
       "        vertical-align: top;\n",
       "    }\n",
       "\n",
       "    .dataframe thead th {\n",
       "        text-align: right;\n",
       "    }\n",
       "</style>\n",
       "<table border=\"1\" class=\"dataframe\">\n",
       "  <thead>\n",
       "    <tr style=\"text-align: right;\">\n",
       "      <th></th>\n",
       "      <th>hotel_name</th>\n",
       "      <th>review_date</th>\n",
       "      <th>reviewer_nationality</th>\n",
       "      <th>review</th>\n",
       "      <th>label</th>\n",
       "      <th>score</th>\n",
       "    </tr>\n",
       "  </thead>\n",
       "  <tbody>\n",
       "    <tr>\n",
       "      <th>0</th>\n",
       "      <td>H10 Itaca</td>\n",
       "      <td>2017-08-03</td>\n",
       "      <td>Australia</td>\n",
       "      <td>Damaged bathroom shower screen sealant and ti...</td>\n",
       "      <td>POSITIVE</td>\n",
       "      <td>0.715813</td>\n",
       "    </tr>\n",
       "    <tr>\n",
       "      <th>1</th>\n",
       "      <td>De Vere Devonport House</td>\n",
       "      <td>2016-03-28</td>\n",
       "      <td>United Kingdom</td>\n",
       "      <td>No Negative The location and the hotel was ver...</td>\n",
       "      <td>POSITIVE</td>\n",
       "      <td>0.999741</td>\n",
       "    </tr>\n",
       "    <tr>\n",
       "      <th>2</th>\n",
       "      <td>Ramada Plaza Milano</td>\n",
       "      <td>2016-05-15</td>\n",
       "      <td>Kosovo</td>\n",
       "      <td>No Negative Im a frequent traveler i visited m...</td>\n",
       "      <td>POSITIVE</td>\n",
       "      <td>0.999773</td>\n",
       "    </tr>\n",
       "    <tr>\n",
       "      <th>3</th>\n",
       "      <td>Aloft London Excel</td>\n",
       "      <td>2016-11-05</td>\n",
       "      <td>Canada</td>\n",
       "      <td>Only tepid water for morning shower They said ...</td>\n",
       "      <td>NEGATIVE</td>\n",
       "      <td>0.999169</td>\n",
       "    </tr>\n",
       "    <tr>\n",
       "      <th>4</th>\n",
       "      <td>The Student Hotel Amsterdam City</td>\n",
       "      <td>2016-07-31</td>\n",
       "      <td>Australia</td>\n",
       "      <td>No Negative The hotel had free gym table tenni...</td>\n",
       "      <td>NEGATIVE</td>\n",
       "      <td>0.931378</td>\n",
       "    </tr>\n",
       "    <tr>\n",
       "      <th>...</th>\n",
       "      <td>...</td>\n",
       "      <td>...</td>\n",
       "      <td>...</td>\n",
       "      <td>...</td>\n",
       "      <td>...</td>\n",
       "      <td>...</td>\n",
       "    </tr>\n",
       "    <tr>\n",
       "      <th>95</th>\n",
       "      <td>The Chesterfield Mayfair</td>\n",
       "      <td>2015-08-25</td>\n",
       "      <td>Denmark</td>\n",
       "      <td>Bad Reading light And light in bathNo Positive</td>\n",
       "      <td>NEGATIVE</td>\n",
       "      <td>0.999340</td>\n",
       "    </tr>\n",
       "    <tr>\n",
       "      <th>96</th>\n",
       "      <td>Hotel V Nesplein</td>\n",
       "      <td>2015-08-27</td>\n",
       "      <td>Turkey</td>\n",
       "      <td>Nothing except the construction going on the s...</td>\n",
       "      <td>POSITIVE</td>\n",
       "      <td>0.999691</td>\n",
       "    </tr>\n",
       "    <tr>\n",
       "      <th>97</th>\n",
       "      <td>Le Parisis Paris Tour Eiffel</td>\n",
       "      <td>2015-10-20</td>\n",
       "      <td>Australia</td>\n",
       "      <td>When we arrived we had to bring our own baggag...</td>\n",
       "      <td>NEGATIVE</td>\n",
       "      <td>0.999032</td>\n",
       "    </tr>\n",
       "    <tr>\n",
       "      <th>98</th>\n",
       "      <td>NH Amsterdam Museum Quarter</td>\n",
       "      <td>2016-01-26</td>\n",
       "      <td>Belgium</td>\n",
       "      <td>No stairs even to go the first floor Restaura...</td>\n",
       "      <td>POSITIVE</td>\n",
       "      <td>0.996806</td>\n",
       "    </tr>\n",
       "    <tr>\n",
       "      <th>99</th>\n",
       "      <td>Barcel Raval</td>\n",
       "      <td>2017-07-07</td>\n",
       "      <td>United Kingdom</td>\n",
       "      <td>Air conditioning a little zealous Nice atmosp...</td>\n",
       "      <td>POSITIVE</td>\n",
       "      <td>0.999748</td>\n",
       "    </tr>\n",
       "  </tbody>\n",
       "</table>\n",
       "<p>100 rows × 6 columns</p>\n",
       "</div>"
      ],
      "text/plain": [
       "                          hotel_name review_date reviewer_nationality  \\\n",
       "0                          H10 Itaca  2017-08-03           Australia    \n",
       "1            De Vere Devonport House  2016-03-28      United Kingdom    \n",
       "2                Ramada Plaza Milano  2016-05-15              Kosovo    \n",
       "3                 Aloft London Excel  2016-11-05              Canada    \n",
       "4   The Student Hotel Amsterdam City  2016-07-31           Australia    \n",
       "..                               ...         ...                  ...   \n",
       "95          The Chesterfield Mayfair  2015-08-25             Denmark    \n",
       "96                  Hotel V Nesplein  2015-08-27              Turkey    \n",
       "97      Le Parisis Paris Tour Eiffel  2015-10-20           Australia    \n",
       "98       NH Amsterdam Museum Quarter  2016-01-26             Belgium    \n",
       "99                      Barcel Raval  2017-07-07      United Kingdom    \n",
       "\n",
       "                                               review     label     score  \n",
       "0    Damaged bathroom shower screen sealant and ti...  POSITIVE  0.715813  \n",
       "1   No Negative The location and the hotel was ver...  POSITIVE  0.999741  \n",
       "2   No Negative Im a frequent traveler i visited m...  POSITIVE  0.999773  \n",
       "3   Only tepid water for morning shower They said ...  NEGATIVE  0.999169  \n",
       "4   No Negative The hotel had free gym table tenni...  NEGATIVE  0.931378  \n",
       "..                                                ...       ...       ...  \n",
       "95     Bad Reading light And light in bathNo Positive  NEGATIVE  0.999340  \n",
       "96  Nothing except the construction going on the s...  POSITIVE  0.999691  \n",
       "97  When we arrived we had to bring our own baggag...  NEGATIVE  0.999032  \n",
       "98   No stairs even to go the first floor Restaura...  POSITIVE  0.996806  \n",
       "99   Air conditioning a little zealous Nice atmosp...  POSITIVE  0.999748  \n",
       "\n",
       "[100 rows x 6 columns]"
      ]
     },
     "execution_count": 8,
     "metadata": {},
     "output_type": "execute_result"
    }
   ],
   "source": [
    "sentiment_table.get()"
   ]
  },
  {
   "cell_type": "markdown",
   "id": "bba0b4e3",
   "metadata": {},
   "source": [
    "It might be helpful to monitor the runtime of this sentiment_predictions operator. Aqueduct comes with a set of pre-built system metrics that allow you to capture system-level metrics like function runtime and memory usage. You can see all available system metrics, you can call `list_system_metrics`. Here, we'll use the `runtime` system metric to track how long it takes to compute the `sentiment_table` artifact."
   ]
  },
  {
   "cell_type": "code",
   "execution_count": 9,
   "id": "e41baa2b",
   "metadata": {},
   "outputs": [
    {
     "data": {
      "text/plain": [
       "['runtime', 'max_memory']"
      ]
     },
     "execution_count": 9,
     "metadata": {},
     "output_type": "execute_result"
    }
   ],
   "source": [
    "sentiment_table.list_system_metrics()"
   ]
  },
  {
   "cell_type": "code",
   "execution_count": 10,
   "id": "19a66ffc",
   "metadata": {},
   "outputs": [],
   "source": [
    "# Use an Aqueduct system metric to capture how long it takes to run\n",
    "# the sentiment_prediction function that generates sentiment_table.\n",
    "sentiment_table_runtime = sentiment_table.system_metric(\"runtime\")"
   ]
  },
  {
   "cell_type": "markdown",
   "id": "55e7e81f",
   "metadata": {},
   "source": [
    "Now you can view the runtime (in seconds) by retrieving the contents of the sentimment_table_runtime artifact."
   ]
  },
  {
   "cell_type": "code",
   "execution_count": 11,
   "id": "15e23faa",
   "metadata": {},
   "outputs": [
    {
     "data": {
      "text/plain": [
       "8.313335418701172"
      ]
     },
     "execution_count": 11,
     "metadata": {},
     "output_type": "execute_result"
    }
   ],
   "source": [
    "sentiment_table_runtime.get()"
   ]
  },
  {
   "cell_type": "markdown",
   "id": "6d37c156-ee13-4aeb-822b-e1b6ed929135",
   "metadata": {},
   "source": [
    "## Publishing the Workflow\n",
    "\n",
    "Now that we've defined our predictions, we can save them back to the data warehouse. Here, we'll simply write them back to the same demo DB that we loaded the data from earlier, but the predictions can be written to any system Aqueduct is connected to."
   ]
  },
  {
   "cell_type": "code",
   "execution_count": 12,
   "id": "3f535ee6-58e0-4d2b-bff9-9778371bb09b",
   "metadata": {},
   "outputs": [],
   "source": [
    "# This tells Aqueduct to save the results in sentiment_table \n",
    "# back to the demo DB we configured earlier. \n",
    "# NOTE: At this point, no data is actually saved! This is just \n",
    "# part of a workflow spec that will be executed once the workflow\n",
    "# is published in the next cell.\n",
    "sentiment_table.save(warehouse.config(table='sentiment_pred', update_mode='replace'))"
   ]
  },
  {
   "cell_type": "markdown",
   "id": "9fdd8bc5-2089-4f7d-8f73-6c48c524128d",
   "metadata": {},
   "source": [
    "Finally, we'll publish our workflow to Aqueduct, giving it a name and telling it which artifacts to publish. We'll also give this workflow a schedule, telling it to run on an hourly basis:"
   ]
  },
  {
   "cell_type": "code",
   "execution_count": 13,
   "id": "e6d4dac1-5d01-4f82-a3b3-cec7124f6669",
   "metadata": {},
   "outputs": [
    {
     "name": "stdout",
     "output_type": "stream",
     "text": [
      "Url:  http://localhost:8080/workflow/e6f07ce9-c8ca-4717-a7c3-09dcda21b9ac\n",
      "e6f07ce9-c8ca-4717-a7c3-09dcda21b9ac\n"
     ]
    }
   ],
   "source": [
    "# This publishes all of the logic needed to create sentiment_table\n",
    "# to Aqueduct and schedules the workflow to run on an hourly basis. \n",
    "# The URL below will take you to the Aqueduct UI, which will show you the\n",
    "# status of your workflow runs and allow you to inspect them.\n",
    "sentiment_flow = client.publish_flow(name = \"Demo Customer Sentiment\", \n",
    "                                   artifacts = [sentiment_table],\n",
    "                                   schedule = aqueduct.hourly())\n",
    "print(sentiment_flow.id())"
   ]
  },
  {
   "cell_type": "markdown",
   "id": "df3e677b",
   "metadata": {},
   "source": [
    "Clicking on the URL above will take you to the Aqueudct UI where you can see the workflow that we just created! On the Aqueduct UI, you'll be able to see the DAG of operators we just created, click into any of those operators, and see the data and metadata associated with each stage of the pipeline."
   ]
  }
 ],
 "metadata": {
  "kernelspec": {
   "display_name": "Python 3 (ipykernel)",
   "language": "python",
   "name": "python3"
  },
  "language_info": {
   "codemirror_mode": {
    "name": "ipython",
    "version": 3
   },
   "file_extension": ".py",
   "mimetype": "text/x-python",
   "name": "python",
   "nbconvert_exporter": "python",
   "pygments_lexer": "ipython3",
   "version": "3.8.9"
  }
 },
 "nbformat": 4,
 "nbformat_minor": 5
}
