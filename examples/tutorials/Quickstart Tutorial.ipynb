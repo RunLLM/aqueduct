{
 "cells": [
  {
   "cell_type": "markdown",
   "id": "7ccab14c",
   "metadata": {},
   "source": [
    "# Quickstart Tutorial\n",
    "\n",
    "The quickest way to get your first workflow deployed on Aqueduct"
   ]
  },
  {
   "cell_type": "markdown",
   "id": "3a92a459",
   "metadata": {},
   "source": [
    "---\n",
    "\n",
    "### Installation and Setup\n",
    "First things first, we'll install the Aqueduct pip package and start Aqueduct in your terminal:\n",
    "\n",
    "```\n",
    "!pip3 install aqueduct-ml\n",
    "!aqueduct start\n",
    "```\n",
    "\n",
    "Next, we import everything we need and create our Aqueduct client:"
   ]
  },
  {
   "cell_type": "code",
   "execution_count": 1,
   "id": "cbe282d3",
   "metadata": {},
   "outputs": [],
   "source": [
    "from aqueduct import Client, op, metric, check\n",
    "import pandas as pd\n",
    "\n",
    "client = Client()"
   ]
  },
  {
   "cell_type": "markdown",
   "id": "0dfcd182",
   "metadata": {},
   "source": [
    "Note that the API key associated with the server can also be found in the output of the aqueduct start command.\n",
    "\n",
    "---\n",
    "### Accessing Data\n",
    "\n",
    "The base data for our workflow is the [hotel reviews](https://docs.aqueducthq.com/integrations/aqueduct-demo-integration) dataset in the pre-built aqueduct_demo that comes with the Aqueduct server. This code does two things -- (1) it loads a connection to the demo database, and (2) it runs a SQL query against that DB and returns a pointer to the resulting dataset."
   ]
  },
  {
   "cell_type": "code",
   "execution_count": 13,
   "id": "a4651f7f",
   "metadata": {},
   "outputs": [
    {
     "name": "stdout",
     "output_type": "stream",
     "text": [
      "<class 'aqueduct.artifacts.table_artifact.TableArtifact'>\n"
     ]
    },
    {
     "data": {
      "text/html": [
       "<div>\n",
       "<style scoped>\n",
       "    .dataframe tbody tr th:only-of-type {\n",
       "        vertical-align: middle;\n",
       "    }\n",
       "\n",
       "    .dataframe tbody tr th {\n",
       "        vertical-align: top;\n",
       "    }\n",
       "\n",
       "    .dataframe thead th {\n",
       "        text-align: right;\n",
       "    }\n",
       "</style>\n",
       "<table border=\"1\" class=\"dataframe\">\n",
       "  <thead>\n",
       "    <tr style=\"text-align: right;\">\n",
       "      <th></th>\n",
       "      <th>hotel_name</th>\n",
       "      <th>review_date</th>\n",
       "      <th>reviewer_nationality</th>\n",
       "      <th>review</th>\n",
       "    </tr>\n",
       "  </thead>\n",
       "  <tbody>\n",
       "    <tr>\n",
       "      <th>0</th>\n",
       "      <td>H10 Itaca</td>\n",
       "      <td>2017-08-03</td>\n",
       "      <td>Australia</td>\n",
       "      <td>Damaged bathroom shower screen sealant and ti...</td>\n",
       "    </tr>\n",
       "    <tr>\n",
       "      <th>1</th>\n",
       "      <td>De Vere Devonport House</td>\n",
       "      <td>2016-03-28</td>\n",
       "      <td>United Kingdom</td>\n",
       "      <td>No Negative The location and the hotel was ver...</td>\n",
       "    </tr>\n",
       "    <tr>\n",
       "      <th>2</th>\n",
       "      <td>Ramada Plaza Milano</td>\n",
       "      <td>2016-05-15</td>\n",
       "      <td>Kosovo</td>\n",
       "      <td>No Negative Im a frequent traveler i visited m...</td>\n",
       "    </tr>\n",
       "    <tr>\n",
       "      <th>3</th>\n",
       "      <td>Aloft London Excel</td>\n",
       "      <td>2016-11-05</td>\n",
       "      <td>Canada</td>\n",
       "      <td>Only tepid water for morning shower They said ...</td>\n",
       "    </tr>\n",
       "    <tr>\n",
       "      <th>4</th>\n",
       "      <td>The Student Hotel Amsterdam City</td>\n",
       "      <td>2016-07-31</td>\n",
       "      <td>Australia</td>\n",
       "      <td>No Negative The hotel had free gym table tenni...</td>\n",
       "    </tr>\n",
       "    <tr>\n",
       "      <th>...</th>\n",
       "      <td>...</td>\n",
       "      <td>...</td>\n",
       "      <td>...</td>\n",
       "      <td>...</td>\n",
       "    </tr>\n",
       "    <tr>\n",
       "      <th>95</th>\n",
       "      <td>The Chesterfield Mayfair</td>\n",
       "      <td>2015-08-25</td>\n",
       "      <td>Denmark</td>\n",
       "      <td>Bad Reading light And light in bathNo Positive</td>\n",
       "    </tr>\n",
       "    <tr>\n",
       "      <th>96</th>\n",
       "      <td>Hotel V Nesplein</td>\n",
       "      <td>2015-08-27</td>\n",
       "      <td>Turkey</td>\n",
       "      <td>Nothing except the construction going on the s...</td>\n",
       "    </tr>\n",
       "    <tr>\n",
       "      <th>97</th>\n",
       "      <td>Le Parisis Paris Tour Eiffel</td>\n",
       "      <td>2015-10-20</td>\n",
       "      <td>Australia</td>\n",
       "      <td>When we arrived we had to bring our own baggag...</td>\n",
       "    </tr>\n",
       "    <tr>\n",
       "      <th>98</th>\n",
       "      <td>NH Amsterdam Museum Quarter</td>\n",
       "      <td>2016-01-26</td>\n",
       "      <td>Belgium</td>\n",
       "      <td>No stairs even to go the first floor Restaura...</td>\n",
       "    </tr>\n",
       "    <tr>\n",
       "      <th>99</th>\n",
       "      <td>Barcel Raval</td>\n",
       "      <td>2017-07-07</td>\n",
       "      <td>United Kingdom</td>\n",
       "      <td>Air conditioning a little zealous Nice atmosp...</td>\n",
       "    </tr>\n",
       "  </tbody>\n",
       "</table>\n",
       "<p>100 rows × 4 columns</p>\n",
       "</div>"
      ],
      "text/plain": [
       "                          hotel_name review_date reviewer_nationality  \\\n",
       "0                          H10 Itaca  2017-08-03           Australia    \n",
       "1            De Vere Devonport House  2016-03-28      United Kingdom    \n",
       "2                Ramada Plaza Milano  2016-05-15              Kosovo    \n",
       "3                 Aloft London Excel  2016-11-05              Canada    \n",
       "4   The Student Hotel Amsterdam City  2016-07-31           Australia    \n",
       "..                               ...         ...                  ...   \n",
       "95          The Chesterfield Mayfair  2015-08-25             Denmark    \n",
       "96                  Hotel V Nesplein  2015-08-27              Turkey    \n",
       "97      Le Parisis Paris Tour Eiffel  2015-10-20           Australia    \n",
       "98       NH Amsterdam Museum Quarter  2016-01-26             Belgium    \n",
       "99                      Barcel Raval  2017-07-07      United Kingdom    \n",
       "\n",
       "                                               review  \n",
       "0    Damaged bathroom shower screen sealant and ti...  \n",
       "1   No Negative The location and the hotel was ver...  \n",
       "2   No Negative Im a frequent traveler i visited m...  \n",
       "3   Only tepid water for morning shower They said ...  \n",
       "4   No Negative The hotel had free gym table tenni...  \n",
       "..                                                ...  \n",
       "95     Bad Reading light And light in bathNo Positive  \n",
       "96  Nothing except the construction going on the s...  \n",
       "97  When we arrived we had to bring our own baggag...  \n",
       "98   No stairs even to go the first floor Restaura...  \n",
       "99   Air conditioning a little zealous Nice atmosp...  \n",
       "\n",
       "[100 rows x 4 columns]"
      ]
     },
     "execution_count": 13,
     "metadata": {},
     "output_type": "execute_result"
    }
   ],
   "source": [
    "import pandas as pd\n",
    "demo_db = client.integration(\"aqueduct_demo\")\n",
    "reviews_table = demo_db.sql(\"select * from hotel_reviews;\")\n",
    "\n",
    "# You will see the type of `reviews_table` is an Aqueduct TableArtifact.\n",
    "print(type(reviews_table))\n",
    "\n",
    "# Calling .get() allows us to retrieve the underlying data from the TableArtifact and\n",
    "# returns it to you as a Python object.\n",
    "reviews_table.get()"
   ]
  },
  {
   "attachments": {},
   "cell_type": "markdown",
   "id": "fd2b2033",
   "metadata": {},
   "source": [
    "`reviews_table` is an Artifact -- simply a wrapper around some data -- in Aqueduct terminology and will now serve as the base data for our workflow. We can apply Python functions to it in order to transform it.\n",
    "\n",
    "Alternatively, in the case that we haven't acquire the permission to the databases, or we want to test out a workflow with a subset of a dataset, we can consume a local JSON, CSV, or Parquet file to create a parameter Artifact(See Parameters Tutorial for more information) to serve as a temporary data.\n"
   ]
  },
  {
   "cell_type": "code",
   "execution_count": 18,
   "id": "4346f2e1",
   "metadata": {},
   "outputs": [
    {
     "data": {
      "text/plain": [
       "True"
      ]
     },
     "execution_count": 18,
     "metadata": {},
     "output_type": "execute_result"
    }
   ],
   "source": [
    "from aqueduct.constants.enums import ArtifactType\n",
    "data_param = client.create_param(name=\"data_param\",\n",
    "                                 default =\"./hotel_review.csv\",\n",
    "                                 use_local=True,\n",
    "                                 as_type=ArtifactType.TABLE,\n",
    "                                 format=\"csv\")\n",
    "\n",
    "# The local data parameter we just create will have the same content as `reviews_table` \n",
    "# and can be used interchangably.                            \n",
    "data_param.get().equals(reviews_table.get())"
   ]
  },
  {
   "attachments": {},
   "cell_type": "markdown",
   "id": "8da1173a",
   "metadata": {},
   "source": [
    "To use local data instead, replace `review_table` with `data_param` in the following tutorial."
   ]
  },
  {
   "attachments": {},
   "cell_type": "markdown",
   "id": "95a1558c",
   "metadata": {},
   "source": [
    "----\n",
    "### Transforming Data\n",
    "\n",
    "A piece of Python code that transforms an Artifact is called an [Operator](https://docs.aqueducthq.com/operators), which is simply just a decorated Python function. Here, we'll write a simple operator that takes in our reviews table and calculates the length of the review string. It's not too exciting, but it should give you a sense of how Aqueduct works."
   ]
  },
  {
   "cell_type": "code",
   "execution_count": 19,
   "id": "eac1ee59",
   "metadata": {},
   "outputs": [],
   "source": [
    "@op\n",
    "def transform_data(reviews):\n",
    "    '''\n",
    "    This simple Python function takes in a DataFrame with hotel reviews\n",
    "    and adds a column called strlen that has the string length of the\n",
    "    review.    \n",
    "    '''\n",
    "    reviews['strlen'] = reviews['review'].str.len()\n",
    "    return reviews\n",
    "\n",
    "strlen_table = transform_data(reviews_table)"
   ]
  },
  {
   "cell_type": "markdown",
   "id": "2fc28f45",
   "metadata": {},
   "source": [
    "Notice that we added @op above our function definition: This tells Aqueduct that we want to run this function as a part of an Aqueduct workflow. A function decorated with @op can be called like a regular Python function, and Aqueduct takes note of this call to begin constructing a workflow.\n",
    "\n",
    "Now that we have our string length operator, we can get a preview of our data by calling .get()"
   ]
  },
  {
   "cell_type": "code",
   "execution_count": 20,
   "id": "40b644b5",
   "metadata": {},
   "outputs": [
    {
     "data": {
      "text/html": [
       "<div>\n",
       "<style scoped>\n",
       "    .dataframe tbody tr th:only-of-type {\n",
       "        vertical-align: middle;\n",
       "    }\n",
       "\n",
       "    .dataframe tbody tr th {\n",
       "        vertical-align: top;\n",
       "    }\n",
       "\n",
       "    .dataframe thead th {\n",
       "        text-align: right;\n",
       "    }\n",
       "</style>\n",
       "<table border=\"1\" class=\"dataframe\">\n",
       "  <thead>\n",
       "    <tr style=\"text-align: right;\">\n",
       "      <th></th>\n",
       "      <th>hotel_name</th>\n",
       "      <th>review_date</th>\n",
       "      <th>reviewer_nationality</th>\n",
       "      <th>review</th>\n",
       "      <th>strlen</th>\n",
       "    </tr>\n",
       "  </thead>\n",
       "  <tbody>\n",
       "    <tr>\n",
       "      <th>0</th>\n",
       "      <td>H10 Itaca</td>\n",
       "      <td>2017-08-03</td>\n",
       "      <td>Australia</td>\n",
       "      <td>Damaged bathroom shower screen sealant and ti...</td>\n",
       "      <td>82</td>\n",
       "    </tr>\n",
       "    <tr>\n",
       "      <th>1</th>\n",
       "      <td>De Vere Devonport House</td>\n",
       "      <td>2016-03-28</td>\n",
       "      <td>United Kingdom</td>\n",
       "      <td>No Negative The location and the hotel was ver...</td>\n",
       "      <td>84</td>\n",
       "    </tr>\n",
       "    <tr>\n",
       "      <th>2</th>\n",
       "      <td>Ramada Plaza Milano</td>\n",
       "      <td>2016-05-15</td>\n",
       "      <td>Kosovo</td>\n",
       "      <td>No Negative Im a frequent traveler i visited m...</td>\n",
       "      <td>292</td>\n",
       "    </tr>\n",
       "    <tr>\n",
       "      <th>3</th>\n",
       "      <td>Aloft London Excel</td>\n",
       "      <td>2016-11-05</td>\n",
       "      <td>Canada</td>\n",
       "      <td>Only tepid water for morning shower They said ...</td>\n",
       "      <td>368</td>\n",
       "    </tr>\n",
       "    <tr>\n",
       "      <th>4</th>\n",
       "      <td>The Student Hotel Amsterdam City</td>\n",
       "      <td>2016-07-31</td>\n",
       "      <td>Australia</td>\n",
       "      <td>No Negative The hotel had free gym table tenni...</td>\n",
       "      <td>167</td>\n",
       "    </tr>\n",
       "    <tr>\n",
       "      <th>...</th>\n",
       "      <td>...</td>\n",
       "      <td>...</td>\n",
       "      <td>...</td>\n",
       "      <td>...</td>\n",
       "      <td>...</td>\n",
       "    </tr>\n",
       "    <tr>\n",
       "      <th>95</th>\n",
       "      <td>The Chesterfield Mayfair</td>\n",
       "      <td>2015-08-25</td>\n",
       "      <td>Denmark</td>\n",
       "      <td>Bad Reading light And light in bathNo Positive</td>\n",
       "      <td>47</td>\n",
       "    </tr>\n",
       "    <tr>\n",
       "      <th>96</th>\n",
       "      <td>Hotel V Nesplein</td>\n",
       "      <td>2015-08-27</td>\n",
       "      <td>Turkey</td>\n",
       "      <td>Nothing except the construction going on the s...</td>\n",
       "      <td>456</td>\n",
       "    </tr>\n",
       "    <tr>\n",
       "      <th>97</th>\n",
       "      <td>Le Parisis Paris Tour Eiffel</td>\n",
       "      <td>2015-10-20</td>\n",
       "      <td>Australia</td>\n",
       "      <td>When we arrived we had to bring our own baggag...</td>\n",
       "      <td>672</td>\n",
       "    </tr>\n",
       "    <tr>\n",
       "      <th>98</th>\n",
       "      <td>NH Amsterdam Museum Quarter</td>\n",
       "      <td>2016-01-26</td>\n",
       "      <td>Belgium</td>\n",
       "      <td>No stairs even to go the first floor Restaura...</td>\n",
       "      <td>156</td>\n",
       "    </tr>\n",
       "    <tr>\n",
       "      <th>99</th>\n",
       "      <td>Barcel Raval</td>\n",
       "      <td>2017-07-07</td>\n",
       "      <td>United Kingdom</td>\n",
       "      <td>Air conditioning a little zealous Nice atmosp...</td>\n",
       "      <td>72</td>\n",
       "    </tr>\n",
       "  </tbody>\n",
       "</table>\n",
       "<p>100 rows × 5 columns</p>\n",
       "</div>"
      ],
      "text/plain": [
       "                          hotel_name review_date reviewer_nationality  \\\n",
       "0                          H10 Itaca  2017-08-03           Australia    \n",
       "1            De Vere Devonport House  2016-03-28      United Kingdom    \n",
       "2                Ramada Plaza Milano  2016-05-15              Kosovo    \n",
       "3                 Aloft London Excel  2016-11-05              Canada    \n",
       "4   The Student Hotel Amsterdam City  2016-07-31           Australia    \n",
       "..                               ...         ...                  ...   \n",
       "95          The Chesterfield Mayfair  2015-08-25             Denmark    \n",
       "96                  Hotel V Nesplein  2015-08-27              Turkey    \n",
       "97      Le Parisis Paris Tour Eiffel  2015-10-20           Australia    \n",
       "98       NH Amsterdam Museum Quarter  2016-01-26             Belgium    \n",
       "99                      Barcel Raval  2017-07-07      United Kingdom    \n",
       "\n",
       "                                               review  strlen  \n",
       "0    Damaged bathroom shower screen sealant and ti...      82  \n",
       "1   No Negative The location and the hotel was ver...      84  \n",
       "2   No Negative Im a frequent traveler i visited m...     292  \n",
       "3   Only tepid water for morning shower They said ...     368  \n",
       "4   No Negative The hotel had free gym table tenni...     167  \n",
       "..                                                ...     ...  \n",
       "95     Bad Reading light And light in bathNo Positive      47  \n",
       "96  Nothing except the construction going on the s...     456  \n",
       "97  When we arrived we had to bring our own baggag...     672  \n",
       "98   No stairs even to go the first floor Restaura...     156  \n",
       "99   Air conditioning a little zealous Nice atmosp...      72  \n",
       "\n",
       "[100 rows x 5 columns]"
      ]
     },
     "execution_count": 20,
     "metadata": {},
     "output_type": "execute_result"
    }
   ],
   "source": [
    "strlen_table.get()"
   ]
  },
  {
   "cell_type": "markdown",
   "id": "abf259dc",
   "metadata": {},
   "source": [
    "---\n",
    "\n",
    "### Adding Metrics\n",
    "\n",
    "We're going to apply a [Metric](https://docs.aqueducthq.com/metrics-and-checks/metrics-measuring-your-predictions) to our strlen_table, which will calculate a numerical summary of our predictions (in this case, just the mean string length)."
   ]
  },
  {
   "cell_type": "code",
   "execution_count": 21,
   "id": "af10b9ca",
   "metadata": {},
   "outputs": [
    {
     "data": {
      "text/plain": [
       "223.18"
      ]
     },
     "execution_count": 21,
     "metadata": {},
     "output_type": "execute_result"
    }
   ],
   "source": [
    "@metric\n",
    "def average_strlen(strlen_table):\n",
    "    return (strlen_table[\"strlen\"]).mean()\n",
    "\n",
    "avg_strlen = average_strlen(strlen_table)\n",
    "avg_strlen.get()"
   ]
  },
  {
   "cell_type": "markdown",
   "id": "1b6ebd3c",
   "metadata": {},
   "source": [
    "Note that metrics are denoted with the @metric decorator. Metrics can be computed over any operator, and even other metrics.\n",
    "\n",
    "---\n",
    "### Adding Checks\n",
    "\n",
    "Let's say that we want to make sure the average strlen of hotel reviews never exceeds 250 characters. We can add a [check](https://docs.aqueducthq.com/metrics-and-checks/checks-ensuring-correctness) over the `avg_strlen` metric."
   ]
  },
  {
   "cell_type": "code",
   "execution_count": 22,
   "id": "463841f5",
   "metadata": {},
   "outputs": [
    {
     "data": {
      "text/plain": [
       "<aqueduct.artifacts.bool_artifact.BoolArtifact at 0x7fd5d030bf10>"
      ]
     },
     "execution_count": 22,
     "metadata": {},
     "output_type": "execute_result"
    }
   ],
   "source": [
    "@check(severity=\"error\")\n",
    "def limit_avg_strlen(avg_strlen):\n",
    "    return avg_strlen < 250\n",
    "\n",
    "limit_avg_strlen(avg_strlen)"
   ]
  },
  {
   "cell_type": "markdown",
   "id": "05328e84",
   "metadata": {},
   "source": [
    "Note that checks are denoted with the @check decorator. Checks can also computed over any operator or metric. Setting the severity to \"error\" will automatically fail the workflow if this check is ever violated. Check severity can also be set to \"warning\" (default), which only print a warning message on any violation.\n",
    "\n",
    "---\n",
    "### Saving Data\n",
    "Finally, we can save the transformed table `strlen_table` back to the Aqueduct demo database. See [here](https://docs.aqueducthq.com/integrations/using-integrations) for more details around using integration objects."
   ]
  },
  {
   "cell_type": "code",
   "execution_count": 24,
   "id": "3badc83f",
   "metadata": {},
   "outputs": [],
   "source": [
    "demo_db.save(strlen_table, table_name=\"strlen_table\", update_mode=\"replace\")"
   ]
  },
  {
   "cell_type": "markdown",
   "id": "28aef1d7",
   "metadata": {},
   "source": [
    "Note that this save is not performed until the flow is actually published."
   ]
  },
  {
   "attachments": {},
   "cell_type": "markdown",
   "id": "f324c09f",
   "metadata": {},
   "source": [
    "---\n",
    "\n",
    "### Publishing the Flow\n",
    "\n",
    "This creates the flow in Aqueduct. You will receive a URL below that will take you to the Aqueduct UI which will show you the status of your workflow runs, and allow you to inspect the data. \n",
    "\n",
    "If you decides to publish flow using local data, set `use_local` to `True` in `publish_flow`."
   ]
  },
  {
   "cell_type": "code",
   "execution_count": 26,
   "id": "835cc798",
   "metadata": {},
   "outputs": [
    {
     "name": "stdout",
     "output_type": "stream",
     "text": [
      "Url:  http://localhost:8080/workflow/c2b38d4e-5c07-4aa1-9cc4-34e543d29a18\n"
     ]
    },
    {
     "data": {
      "text/plain": [
       "<aqueduct.flow.Flow at 0x7fd5d3034ca0>"
      ]
     },
     "execution_count": 26,
     "metadata": {},
     "output_type": "execute_result"
    }
   ],
   "source": [
    "client.publish_flow(name=\"review_strlen\", artifacts=[strlen_table])"
   ]
  },
  {
   "cell_type": "markdown",
   "id": "48895c4d",
   "metadata": {},
   "source": [
    "And we're done! We've created our first workflow together, and you're off to the races. \n",
    "\n",
    "---\n",
    "\n",
    "There is a lot more you can do with Aqueduct, including having flows run automatically on a cadence, parameterizing flows, and reading to and writing from many different integrations (S3, Postgres, etc.). Check out the other tutorials and examples [here](https://docs.aqueducthq.com/example-workflows) for a deeper dive!"
   ]
  }
 ],
 "metadata": {
  "kernelspec": {
   "display_name": "base",
   "language": "python",
   "name": "python3"
  },
  "language_info": {
   "codemirror_mode": {
    "name": "ipython",
    "version": 3
   },
   "file_extension": ".py",
   "mimetype": "text/x-python",
   "name": "python",
   "nbconvert_exporter": "python",
   "pygments_lexer": "ipython3",
   "version": "3.9.12"
  },
  "vscode": {
   "interpreter": {
    "hash": "fcf0cef79dc3051050bcb93558a114a60d1a5ee4cf2e2549314cdd4ec8c83c62"
   }
  }
 },
 "nbformat": 4,
 "nbformat_minor": 5
}
