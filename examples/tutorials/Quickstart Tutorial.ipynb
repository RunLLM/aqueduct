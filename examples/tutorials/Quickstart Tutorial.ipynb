{
 "cells": [
  {
   "cell_type": "markdown",
   "id": "7ccab14c",
   "metadata": {},
   "source": [
    "# Quickstart Tutorial\n",
    "\n",
    "This is a quick tutorial that will go through the bare minimum needed to set up a useful flow.\n",
    "\n",
    "Make sure you have an Aqueduct server running locally. If you don't, run `aqueduct start` to start the server."
   ]
  },
  {
   "cell_type": "markdown",
   "id": "3a92a459",
   "metadata": {},
   "source": [
    "---\n",
    "\n",
    "### Step 1: Set up the Aqueduct client\n"
   ]
  },
  {
   "cell_type": "code",
   "execution_count": 1,
   "id": "a4651f7f",
   "metadata": {},
   "outputs": [
    {
     "name": "stderr",
     "output_type": "stream",
     "text": [
      "/Users/kennethxu/opt/anaconda3/envs/python38/lib/python3.8/site-packages/pkg_resources/_vendor/packaging/specifiers.py:255: DeprecationWarning: Creating a LegacyVersion has been deprecated and will be removed in the next major release\n",
      "  warnings.warn(\n"
     ]
    }
   ],
   "source": [
    "from aqueduct import Client, op, get_apikey\n",
    "client = Client(get_apikey(), \"localhost:8080\")"
   ]
  },
  {
   "cell_type": "markdown",
   "id": "abf259dc",
   "metadata": {},
   "source": [
    "### Step 2: Extract some data from the database\n",
    "Pull some data out of the demo database, which is automatically included with the server."
   ]
  },
  {
   "cell_type": "code",
   "execution_count": 2,
   "id": "831b6500",
   "metadata": {},
   "outputs": [],
   "source": [
    "demo_db = client.integration(\"aqueduct_demo\")\n",
    "reviews_table = demo_db.sql(\"select * from hotel_reviews;\")"
   ]
  },
  {
   "cell_type": "markdown",
   "id": "0fc7358e",
   "metadata": {},
   "source": [
    "### Step 3: Perform a transformation on the data\n",
    "In this case, we'll append a new column 'strlen', which contains the length of the review."
   ]
  },
  {
   "cell_type": "code",
   "execution_count": 3,
   "id": "9a61aff9",
   "metadata": {},
   "outputs": [],
   "source": [
    "@op\n",
    "def transform_data(reviews):\n",
    "    reviews['strlen'] = reviews['review'].str.len()\n",
    "    return reviews\n",
    "\n",
    "table_with_strlen = transform_data(reviews_table)"
   ]
  },
  {
   "cell_type": "markdown",
   "id": "db2b7f89",
   "metadata": {},
   "source": [
    "You can materialize and inspect the resulting table using `.get()`."
   ]
  },
  {
   "cell_type": "code",
   "execution_count": 4,
   "id": "5e477e17",
   "metadata": {},
   "outputs": [
    {
     "data": {
      "text/html": [
       "<div>\n",
       "<style scoped>\n",
       "    .dataframe tbody tr th:only-of-type {\n",
       "        vertical-align: middle;\n",
       "    }\n",
       "\n",
       "    .dataframe tbody tr th {\n",
       "        vertical-align: top;\n",
       "    }\n",
       "\n",
       "    .dataframe thead th {\n",
       "        text-align: right;\n",
       "    }\n",
       "</style>\n",
       "<table border=\"1\" class=\"dataframe\">\n",
       "  <thead>\n",
       "    <tr style=\"text-align: right;\">\n",
       "      <th></th>\n",
       "      <th>hotel_name</th>\n",
       "      <th>review_date</th>\n",
       "      <th>reviewer_nationality</th>\n",
       "      <th>review</th>\n",
       "      <th>strlen</th>\n",
       "    </tr>\n",
       "  </thead>\n",
       "  <tbody>\n",
       "    <tr>\n",
       "      <th>0</th>\n",
       "      <td>H10 Itaca</td>\n",
       "      <td>2017-08-03</td>\n",
       "      <td>Australia</td>\n",
       "      <td>Damaged bathroom shower screen sealant and ti...</td>\n",
       "      <td>82</td>\n",
       "    </tr>\n",
       "    <tr>\n",
       "      <th>1</th>\n",
       "      <td>De Vere Devonport House</td>\n",
       "      <td>2016-03-28</td>\n",
       "      <td>United Kingdom</td>\n",
       "      <td>No Negative The location and the hotel was ver...</td>\n",
       "      <td>84</td>\n",
       "    </tr>\n",
       "    <tr>\n",
       "      <th>2</th>\n",
       "      <td>Ramada Plaza Milano</td>\n",
       "      <td>2016-05-15</td>\n",
       "      <td>Kosovo</td>\n",
       "      <td>No Negative Im a frequent traveler i visited m...</td>\n",
       "      <td>292</td>\n",
       "    </tr>\n",
       "    <tr>\n",
       "      <th>3</th>\n",
       "      <td>Aloft London Excel</td>\n",
       "      <td>2016-11-05</td>\n",
       "      <td>Canada</td>\n",
       "      <td>Only tepid water for morning shower They said ...</td>\n",
       "      <td>368</td>\n",
       "    </tr>\n",
       "    <tr>\n",
       "      <th>4</th>\n",
       "      <td>The Student Hotel Amsterdam City</td>\n",
       "      <td>2016-07-31</td>\n",
       "      <td>Australia</td>\n",
       "      <td>No Negative The hotel had free gym table tenni...</td>\n",
       "      <td>167</td>\n",
       "    </tr>\n",
       "    <tr>\n",
       "      <th>...</th>\n",
       "      <td>...</td>\n",
       "      <td>...</td>\n",
       "      <td>...</td>\n",
       "      <td>...</td>\n",
       "      <td>...</td>\n",
       "    </tr>\n",
       "    <tr>\n",
       "      <th>95</th>\n",
       "      <td>The Chesterfield Mayfair</td>\n",
       "      <td>2015-08-25</td>\n",
       "      <td>Denmark</td>\n",
       "      <td>Bad Reading light And light in bathNo Positive</td>\n",
       "      <td>47</td>\n",
       "    </tr>\n",
       "    <tr>\n",
       "      <th>96</th>\n",
       "      <td>Hotel V Nesplein</td>\n",
       "      <td>2015-08-27</td>\n",
       "      <td>Turkey</td>\n",
       "      <td>Nothing except the construction going on the s...</td>\n",
       "      <td>456</td>\n",
       "    </tr>\n",
       "    <tr>\n",
       "      <th>97</th>\n",
       "      <td>Le Parisis Paris Tour Eiffel</td>\n",
       "      <td>2015-10-20</td>\n",
       "      <td>Australia</td>\n",
       "      <td>When we arrived we had to bring our own baggag...</td>\n",
       "      <td>672</td>\n",
       "    </tr>\n",
       "    <tr>\n",
       "      <th>98</th>\n",
       "      <td>NH Amsterdam Museum Quarter</td>\n",
       "      <td>2016-01-26</td>\n",
       "      <td>Belgium</td>\n",
       "      <td>No stairs even to go the first floor Restaura...</td>\n",
       "      <td>156</td>\n",
       "    </tr>\n",
       "    <tr>\n",
       "      <th>99</th>\n",
       "      <td>Barcel Raval</td>\n",
       "      <td>2017-07-07</td>\n",
       "      <td>United Kingdom</td>\n",
       "      <td>Air conditioning a little zealous Nice atmosp...</td>\n",
       "      <td>72</td>\n",
       "    </tr>\n",
       "  </tbody>\n",
       "</table>\n",
       "<p>100 rows × 5 columns</p>\n",
       "</div>"
      ],
      "text/plain": [
       "                          hotel_name review_date reviewer_nationality  \\\n",
       "0                          H10 Itaca  2017-08-03           Australia    \n",
       "1            De Vere Devonport House  2016-03-28      United Kingdom    \n",
       "2                Ramada Plaza Milano  2016-05-15              Kosovo    \n",
       "3                 Aloft London Excel  2016-11-05              Canada    \n",
       "4   The Student Hotel Amsterdam City  2016-07-31           Australia    \n",
       "..                               ...         ...                  ...   \n",
       "95          The Chesterfield Mayfair  2015-08-25             Denmark    \n",
       "96                  Hotel V Nesplein  2015-08-27              Turkey    \n",
       "97      Le Parisis Paris Tour Eiffel  2015-10-20           Australia    \n",
       "98       NH Amsterdam Museum Quarter  2016-01-26             Belgium    \n",
       "99                      Barcel Raval  2017-07-07      United Kingdom    \n",
       "\n",
       "                                               review  strlen  \n",
       "0    Damaged bathroom shower screen sealant and ti...      82  \n",
       "1   No Negative The location and the hotel was ver...      84  \n",
       "2   No Negative Im a frequent traveler i visited m...     292  \n",
       "3   Only tepid water for morning shower They said ...     368  \n",
       "4   No Negative The hotel had free gym table tenni...     167  \n",
       "..                                                ...     ...  \n",
       "95     Bad Reading light And light in bathNo Positive      47  \n",
       "96  Nothing except the construction going on the s...     456  \n",
       "97  When we arrived we had to bring our own baggag...     672  \n",
       "98   No stairs even to go the first floor Restaura...     156  \n",
       "99   Air conditioning a little zealous Nice atmosp...      72  \n",
       "\n",
       "[100 rows x 5 columns]"
      ]
     },
     "execution_count": 4,
     "metadata": {},
     "output_type": "execute_result"
    }
   ],
   "source": [
    "table_with_strlen.get()"
   ]
  },
  {
   "cell_type": "markdown",
   "id": "2c6bad43",
   "metadata": {},
   "source": [
    "### Step 4: Save the transformed data back to the database\n",
    "\n",
    "If you're happy with the result, you can save the data back to the database. This save is not performed until the flow is actually published."
   ]
  },
  {
   "cell_type": "code",
   "execution_count": 5,
   "id": "7d8e12ea",
   "metadata": {},
   "outputs": [],
   "source": [
    "table_with_strlen.save(demo_db.config(table=\"reviews_with_strlen\", update_mode=\"replace\")) "
   ]
  },
  {
   "cell_type": "markdown",
   "id": "9a14b92a",
   "metadata": {},
   "source": [
    "### Step 5: Publish the flow"
   ]
  },
  {
   "cell_type": "code",
   "execution_count": 6,
   "id": "35a69811",
   "metadata": {},
   "outputs": [
    {
     "name": "stdout",
     "output_type": "stream",
     "text": [
      "Url:  http://localhost:8080/workflow/352cd2b6-7682-471d-b36d-36e632c2e05e\n"
     ]
    },
    {
     "data": {
      "text/plain": [
       "<aqueduct.flow.Flow at 0x7fea68a34520>"
      ]
     },
     "execution_count": 6,
     "metadata": {},
     "output_type": "execute_result"
    }
   ],
   "source": [
    "client.publish_flow(name=\"Append Strlen to Reviews\", artifacts=[table_with_strlen])"
   ]
  },
  {
   "cell_type": "markdown",
   "id": "73a23c02",
   "metadata": {},
   "source": [
    "The published workflow is named \"Append Strlen of Reviews\". You can view it's runs on the UI (accessible in the browser at `localhost:8080`). It will extract from the reviews data, append a column, and write the result back into the database as a table named \"reviews_with_strlen\"."
   ]
  },
  {
   "cell_type": "markdown",
   "id": "48895c4d",
   "metadata": {},
   "source": [
    "---\n",
    "\n",
    "There is a lot more you can do with Aqueduct, including having flows run automatically on a cadence, parameterizing flows, and reading to and writing from many different integrations (S3, Postgres, etc.). Check out the other tutorials and examples [here](https://docs.aqueducthq.com/example-workflows) if you're interested!"
   ]
  }
 ],
 "metadata": {
  "kernelspec": {
   "display_name": "python38",
   "language": "python",
   "name": "python38"
  },
  "language_info": {
   "codemirror_mode": {
    "name": "ipython",
    "version": 3
   },
   "file_extension": ".py",
   "mimetype": "text/x-python",
   "name": "python",
   "nbconvert_exporter": "python",
   "pygments_lexer": "ipython3",
   "version": "3.8.13"
  }
 },
 "nbformat": 4,
 "nbformat_minor": 5
}
