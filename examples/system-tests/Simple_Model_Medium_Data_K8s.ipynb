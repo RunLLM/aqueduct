{
 "cells": [
  {
   "cell_type": "code",
   "execution_count": null,
   "id": "f6a9bd6c",
   "metadata": {},
   "outputs": [],
   "source": [
    "num_rows = 10000000\n",
    "DATA_SIZE_GB = 5\n",
    "\n",
    "flow_name = f\"Test {DATA_SIZE_GB}GB\"\n",
    "print(\"Testing: \", flow_name)"
   ]
  },
  {
   "cell_type": "code",
   "execution_count": null,
   "id": "5ccef41d",
   "metadata": {},
   "outputs": [],
   "source": [
    "import aqueduct as aq\n",
    "from aqueduct import op"
   ]
  },
  {
   "cell_type": "code",
   "execution_count": null,
   "id": "d1d0d83e",
   "metadata": {},
   "outputs": [],
   "source": [
    "address = \"http://localhost:8080\"\n",
    "\n",
    "api_key = aq.get_apikey()\n",
    "client = aq.Client(api_key, address)"
   ]
  },
  {
   "cell_type": "code",
   "execution_count": null,
   "id": "8c78cdc9",
   "metadata": {},
   "outputs": [],
   "source": [
    "aq.global_config({ \"engine\": \"k8s_2\" })"
   ]
  },
  {
   "cell_type": "code",
   "execution_count": null,
   "id": "55db48ab",
   "metadata": {},
   "outputs": [],
   "source": [
    "warehouse = client.resource(name=\"sf\")"
   ]
  },
  {
   "cell_type": "code",
   "execution_count": null,
   "id": "14d8427b",
   "metadata": {},
   "outputs": [],
   "source": [
    "%%time\n",
    "\n",
    "d = warehouse.sql(f\"select * from LARGE_HOTEL_REVIEWS_STAGING_2041977877 LIMIT {num_rows}\")"
   ]
  },
  {
   "cell_type": "code",
   "execution_count": null,
   "id": "86833b68",
   "metadata": {},
   "outputs": [],
   "source": [
    "%%time\n",
    "\n",
    "d.get()"
   ]
  },
  {
   "cell_type": "code",
   "execution_count": null,
   "id": "39d43c46",
   "metadata": {},
   "outputs": [],
   "source": [
    "df = d.get()\n",
    "\n",
    "def actual_size():\n",
    "    size_bytes = df.memory_usage(deep=True).sum()\n",
    "    \n",
    "    # Convert bytes to gigabytes\n",
    "    size_gb = size_bytes / 1024**3\n",
    "    \n",
    "    return size_gb\n",
    "\n",
    "actual_size()"
   ]
  },
  {
   "cell_type": "code",
   "execution_count": null,
   "id": "704cf8fa",
   "metadata": {},
   "outputs": [],
   "source": [
    "@op(\n",
    "    requirements=[]\n",
    ")\n",
    "def foo(df):\n",
    "    return df.head()"
   ]
  },
  {
   "cell_type": "code",
   "execution_count": null,
   "id": "27aa1787",
   "metadata": {},
   "outputs": [],
   "source": [
    "%%time\n",
    "\n",
    "out = foo(d)"
   ]
  },
  {
   "cell_type": "code",
   "execution_count": null,
   "id": "05c01f1c",
   "metadata": {},
   "outputs": [],
   "source": [
    "%%time\n",
    "\n",
    "client.publish_flow(flow_name, artifacts=[out])"
   ]
  },
  {
   "cell_type": "code",
   "execution_count": null,
   "id": "c512d804",
   "metadata": {},
   "outputs": [],
   "source": []
  }
 ],
 "metadata": {
  "kernelspec": {
   "display_name": "Python 3 (ipykernel)",
   "language": "python",
   "name": "python3"
  },
  "language_info": {
   "codemirror_mode": {
    "name": "ipython",
    "version": 3
   },
   "file_extension": ".py",
   "mimetype": "text/x-python",
   "name": "python",
   "nbconvert_exporter": "python",
   "pygments_lexer": "ipython3",
   "version": "3.10.10"
  },
  "vscode": {
   "interpreter": {
    "hash": "31f2aee4e71d21fbe5cf8b01ff0e069b9275f58929596ceb00d14d90e3e16cd6"
   }
  }
 },
 "nbformat": 4,
 "nbformat_minor": 5
}
