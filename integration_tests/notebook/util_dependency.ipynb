{
 "cells": [
  {
   "cell_type": "markdown",
   "id": "70416e3d",
   "metadata": {},
   "source": [
    "# Util File Dependency Test\n",
    "\n",
    "This notebook tests having a file dependency for a file named `util.py`"
   ]
  },
  {
   "cell_type": "code",
   "execution_count": null,
   "id": "e2ef5a7e",
   "metadata": {},
   "outputs": [],
   "source": [
    "import aqueduct\n",
    "from aqueduct import op, check, metric\n",
    "\n",
    "import pandas as pd\n",
    "import os\n",
    "import numpy as np"
   ]
  },
  {
   "cell_type": "code",
   "execution_count": null,
   "id": "ef93cc74-49db-4ed7-a59a-c097125e3723",
   "metadata": {},
   "outputs": [],
   "source": [
    "# You can use `localhost` if you're running this notebook on the same machine as the server.\n",
    "address = \"http://localhost:8080\"\n",
    "api_key = aqueduct.get_apikey()\n",
    "client = aqueduct.Client(api_key, address)"
   ]
  },
  {
   "cell_type": "code",
   "execution_count": null,
   "id": "78909c5f",
   "metadata": {},
   "outputs": [],
   "source": [
    "warehouse = client.integration(name=\"aqueduct_demo\")\n",
    "customers_table = warehouse.sql(query=\"SELECT * FROM customers;\")\n",
    "print(type(customers_table))"
   ]
  },
  {
   "cell_type": "code",
   "execution_count": null,
   "id": "a8693ae7",
   "metadata": {
    "tags": []
   },
   "outputs": [],
   "source": [
    "customers_table.get().head()"
   ]
  },
  {
   "cell_type": "code",
   "execution_count": null,
   "id": "88add3e4",
   "metadata": {},
   "outputs": [],
   "source": [
    "@op(file_dependencies=[\"./util.py\"])\n",
    "def log_featurize(cust: pd.DataFrame) -> pd.DataFrame:\n",
    "    if not os.path.exists(\"util.py\"):\n",
    "        raise Exception(\"util.py does not exist!\")\n",
    "\n",
    "    import util\n",
    "\n",
    "    features = cust.copy()\n",
    "    skip_cols = util.get_skip_cols()\n",
    "    for col in features.columns.difference(skip_cols):\n",
    "        features[\"log_\" + col] = np.log(features[col] + 1.0)\n",
    "    return features.drop(columns=\"cust_id\")"
   ]
  },
  {
   "cell_type": "code",
   "execution_count": null,
   "id": "ac0ad103",
   "metadata": {},
   "outputs": [],
   "source": [
    "features_table = log_featurize(customers_table)"
   ]
  },
  {
   "cell_type": "code",
   "execution_count": null,
   "id": "5f1a9f68-b40c-4f2c-ab52-6f710f63024a",
   "metadata": {},
   "outputs": [],
   "source": [
    "features_table.get().head()"
   ]
  }
 ],
 "metadata": {
  "kernelspec": {
   "display_name": "Python 3 (ipykernel)",
   "language": "python",
   "name": "python3"
  },
  "language_info": {
   "codemirror_mode": {
    "name": "ipython",
    "version": 3
   },
   "file_extension": ".py",
   "mimetype": "text/x-python",
   "name": "python",
   "nbconvert_exporter": "python",
   "pygments_lexer": "ipython3",
   "version": "3.8.13"
  },
  "vscode": {
   "interpreter": {
    "hash": "916dbcbb3f70747c44a77c7bcd40155683ae19c65e1c03b4aa3499c5328201f1"
   }
  }
 },
 "nbformat": 4,
 "nbformat_minor": 5
}
