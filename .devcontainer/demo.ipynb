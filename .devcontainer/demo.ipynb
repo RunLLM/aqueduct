{
 "cells": [
  {
   "cell_type": "markdown",
   "id": "51954a1a",
   "metadata": {},
   "source": [
    "# March Madness Workflow Using Aqueduct\n",
    "\n",
    "This is an example notebook creating a workflow to train and predict scores for the 2023 March Madness Kaggle competition. This uses the model developed for the 2022 tournament created by https://www.kaggle.com/code/alghanirfan/ncaa-march-madness-random-forest-python. All model creation credit goes to them.\n",
    "\n",
    "To explore Aqueduct, visit the [website](https://aqueducthq.com), [github](https://github.com/aqueducthq/aqueduct), and [docs](https://docs.aqueducthq.com). You can also join our user slack [by clicking on this link](https://slack.aqueducthq.com/)!"
   ]
  },
  {
   "cell_type": "code",
   "execution_count": null,
   "id": "9f6c45cd",
   "metadata": {
    "scrolled": false
   },
   "outputs": [],
   "source": [
    "import aqueduct\n",
    "from aqueduct.decorator import op, check, metric\n",
    "\n",
    "client = aqueduct.Client()\n",
    "\n",
    "aqueduct.global_config({'lazy': True})"
   ]
  },
  {
   "cell_type": "code",
   "execution_count": null,
   "id": "ae7042c4",
   "metadata": {},
   "outputs": [],
   "source": [
    "warehouse = client.integration(\"ncaa\")"
   ]
  },
  {
   "cell_type": "code",
   "execution_count": null,
   "id": "9703c094",
   "metadata": {},
   "outputs": [],
   "source": [
    "m_regular_season_detailed_results = warehouse.sql(\"select * from m_regular_season_detailed_results;\", name=\"reg_season_results\")\n",
    "# m_regular_season_detailed_results.get()"
   ]
  },
  {
   "cell_type": "code",
   "execution_count": null,
   "id": "3f587cb2",
   "metadata": {},
   "outputs": [],
   "source": [
    "@op(requirements=[\"pandas\"])\n",
    "def compile_regular_season_stats(df):\n",
    "    import pandas as pd\n",
    "    \n",
    "    reg_season = df\n",
    "    w_cols = ['Season', 'WTeamID', 'WLoc', 'WFGM', 'WFGA', 'WFGM3', 'WFGA3', 'WFTM', 'WFTA', 'WOR', 'WDR', 'WAst', 'WTO', 'WStl', 'WBlk', 'WPF']\n",
    "    l_cols = ['Season', 'LTeamID', 'LFGM', 'LFGA', 'LFGM3', 'LFGA3', 'LFTM', 'LFTA', 'LOR', 'LDR', 'LAst', 'LTO', 'LStl', 'LBlk', 'LPF']\n",
    "    cols = ['Season', 'TeamID', 'FGM', 'FGA', 'FGM3', 'FGA3', 'FTM', 'FTA', 'OR', 'DR', 'Ast', 'TO', 'Stl', 'Blk', 'PF']\n",
    "\n",
    "    w_stats = reg_season[w_cols].groupby(['Season', 'WTeamID']).mean().reset_index()\n",
    "    w_stats.columns = cols\n",
    "\n",
    "    l_stats = reg_season[l_cols].groupby(['Season', 'LTeamID']).mean().reset_index()\n",
    "    l_stats.columns = cols\n",
    "\n",
    "    reg_season_stats = pd.concat([w_stats, l_stats]).groupby(['Season', 'TeamID']).mean().reset_index()\n",
    "    reg_season_stats['id'] = reg_season_stats.Season.astype(str) + reg_season_stats.TeamID.astype(str)\n",
    "    \n",
    "    return reg_season_stats\n",
    "\n"
   ]
  },
  {
   "cell_type": "code",
   "execution_count": null,
   "id": "8b15291c",
   "metadata": {},
   "outputs": [],
   "source": [
    "regular_season_stats_table = compile_regular_season_stats(m_regular_season_detailed_results)\n",
    "# regular_season_stats_table.get()"
   ]
  },
  {
   "cell_type": "code",
   "execution_count": null,
   "id": "d660de74",
   "metadata": {},
   "outputs": [],
   "source": [
    "ranks_table = warehouse.sql(\"select * from m_massey_ordinals;\", name=\"ranking_compilation\")\n",
    "#ranks_table.get()"
   ]
  },
  {
   "cell_type": "code",
   "execution_count": null,
   "id": "40bfde7f",
   "metadata": {},
   "outputs": [],
   "source": [
    "@op(requirements=[\"pandas\"])\n",
    "def create_team_ranks(ranks):\n",
    "    import pandas as pd\n",
    "\n",
    "    ranks_agg = ranks.groupby(['Season', 'TeamID']).agg({'OrdinalRank': ['mean', 'min', 'max']})\n",
    "    ranks_agg.columns = ['_'.join(col) for col in ranks_agg.columns]\n",
    "\n",
    "    team_ranks = ranks_agg.reset_index()\n",
    "    team_ranks['id'] = team_ranks.Season.astype(str) + team_ranks.TeamID.astype(str)\n",
    "\n",
    "    return team_ranks\n",
    "\n"
   ]
  },
  {
   "cell_type": "code",
   "execution_count": null,
   "id": "5a1961f3",
   "metadata": {},
   "outputs": [],
   "source": [
    "team_ranks_table = create_team_ranks(ranks_table)\n",
    "# team_ranks_table.get()"
   ]
  },
  {
   "cell_type": "code",
   "execution_count": null,
   "id": "72ecbe19",
   "metadata": {},
   "outputs": [],
   "source": [
    "tourney_results_table = warehouse.sql(\"select * from m_ncaa_tourney_compact_results;\", name=\"tourney_results\")\n",
    "# tourney_results_table.get()"
   ]
  },
  {
   "cell_type": "code",
   "execution_count": null,
   "id": "0c67dbe1",
   "metadata": {},
   "outputs": [],
   "source": [
    "@op(requirements=[\"pandas\"])\n",
    "def create_training_dataset(tourney_results, team_ranks, reg_season_stats):\n",
    "    import pandas as pd\n",
    "    \n",
    "    def is_winning(wteam, lteam):\n",
    "        if wteam < lteam:\n",
    "            return 1\n",
    "        else:\n",
    "            return 0\n",
    "    \n",
    "    train = tourney_results\n",
    "\n",
    "    train['is_win'] = train.apply(lambda x: is_winning(x['WTeamID'], x['LTeamID']), axis=1)\n",
    "    train['team_a'] = train.Season.astype(str) + train.WTeamID.astype(str)\n",
    "    train['team_b'] = train.Season.astype(str) + train.LTeamID.astype(str)\n",
    "    train = train.drop(['WScore', 'LScore'], axis=1)\n",
    "    train = pd.merge(train, team_ranks, left_on='team_a', right_on='id').merge(team_ranks, left_on='team_b', right_on='id', suffixes=('_teama', '_teamb'))\n",
    "    train = train.drop(['Season_x', 'Season_y', 'id_teama', 'id_teamb', 'TeamID_teama', 'TeamID_teamb'], axis=1)\n",
    "    train = pd.merge(train, reg_season_stats, left_on='team_a', right_on='id').merge(reg_season_stats, left_on='team_b', right_on='id', suffixes=('_teama', '_teamb'))\n",
    "    train = train.drop(['Season_x', 'Season_y', 'team_a', 'team_b', 'TeamID_teama', 'TeamID_teamb', 'id_teama', 'id_teamb'], axis=1)\n",
    "    train = train.drop(['DayNum', 'WTeamID', 'LTeamID', 'NumOT', 'Season', 'WLoc'], axis=1)\n",
    "\n",
    "    return train"
   ]
  },
  {
   "cell_type": "code",
   "execution_count": null,
   "id": "d4b78cf1",
   "metadata": {},
   "outputs": [],
   "source": [
    "train_table = create_training_dataset(tourney_results_table, team_ranks_table, regular_season_stats_table)\n",
    "# train_table.get()"
   ]
  },
  {
   "cell_type": "code",
   "execution_count": null,
   "id": "5b720fca",
   "metadata": {
    "scrolled": true
   },
   "outputs": [],
   "source": [
    "@op(requirements=[\"scikit-learn\"])\n",
    "def train_forest_model(train):\n",
    "    from sklearn.model_selection import train_test_split\n",
    "\n",
    "    X = train.drop(['is_win'], axis=1)\n",
    "    y = train.is_win\n",
    "\n",
    "    X_train, X_test, y_train, y_test = train_test_split(X, y, test_size=0.2, random_state=42)\n",
    "\n",
    "    from sklearn.ensemble import RandomForestClassifier\n",
    "    from sklearn.metrics import classification_report\n",
    "\n",
    "    model = RandomForestClassifier(random_state=42)\n",
    "    model.fit(X_train, y_train)\n",
    "\n",
    "    y_pred = model.predict(X_test)\n",
    "\n",
    "    print(classification_report(y_test, y_pred))\n",
    "    \n",
    "    return model\n",
    "\n"
   ]
  },
  {
   "cell_type": "code",
   "execution_count": null,
   "id": "fb01ad9f",
   "metadata": {},
   "outputs": [],
   "source": [
    "model = train_forest_model(train_table)"
   ]
  },
  {
   "cell_type": "code",
   "execution_count": null,
   "id": "0d6eaea2",
   "metadata": {},
   "outputs": [],
   "source": [
    "test_table = warehouse.sql(\"select * from sample_submission2023;\", name=\"sample_submission\")\n",
    "# test_table.get()"
   ]
  },
  {
   "cell_type": "code",
   "execution_count": null,
   "id": "9041133a",
   "metadata": {},
   "outputs": [],
   "source": [
    "@op(requirements=[\"pandas\"])\n",
    "def generate_submission(model, team_ranks, reg_season_stats, test):\n",
    "    import pandas as pd\n",
    "    \n",
    "    def return_value(data, data_type=None):\n",
    "        data = data.split('_')\n",
    "        if data_type == 'Team A':\n",
    "            return str(data[0]) + str(data[1])\n",
    "        else:\n",
    "            return str(data[0]) + str(data[2])\n",
    "\n",
    "    test['team_a'] = test.apply(lambda x: return_value(x.ID, 'Team A'), axis=1)\n",
    "    test['team_b'] = test.apply(lambda x: return_value(x.ID), axis=1)\n",
    "    test = pd.merge(test, team_ranks, left_on='team_a', right_on='id').merge(team_ranks, left_on='team_b', right_on='id', suffixes=('_teama', '_teamb'))\n",
    "    test = pd.merge(test, reg_season_stats, left_on='team_a', right_on='id').merge(reg_season_stats, left_on='team_b', right_on='id', suffixes=('_teama', '_teamb'))\n",
    "    test = test.drop(['Season_teama', 'Season_teamb', 'team_a', 'team_b', 'TeamID_teama', 'TeamID_teamb', 'id_teama', 'id_teamb'], axis=1)\n",
    "\n",
    "    test.head()\n",
    "\n",
    "\n",
    "    X = test.drop(['ID', 'Pred'], axis=1)\n",
    "\n",
    "    test['Pred'] = model.predict_proba(X)[:, 1]\n",
    "    test = test[['ID', 'Pred']]\n",
    "    \n",
    "    return test"
   ]
  },
  {
   "cell_type": "code",
   "execution_count": null,
   "id": "37f18bc2",
   "metadata": {},
   "outputs": [],
   "source": [
    "submission_table = generate_submission(model, team_ranks_table, regular_season_stats_table, test_table)\n",
    "# submission_table.get()"
   ]
  },
  {
   "cell_type": "code",
   "execution_count": null,
   "id": "854c50d8",
   "metadata": {},
   "outputs": [],
   "source": [
    "client.publish_flow(\n",
    "    name=\"MarchMadnessWorkflow\",\n",
    "    artifacts=[submission_table]\n",
    ")"
   ]
  }
 ],
 "metadata": {
  "kernelspec": {
   "display_name": "Python 3 (ipykernel)",
   "language": "python",
   "name": "python3"
  },
  "language_info": {
   "codemirror_mode": {
    "name": "ipython",
    "version": 3
   },
   "file_extension": ".py",
   "mimetype": "text/x-python",
   "name": "python",
   "nbconvert_exporter": "python",
   "pygments_lexer": "ipython3",
   "version": "3.9.0"
  },
  "vscode": {
   "interpreter": {
    "hash": "31f2aee4e71d21fbe5cf8b01ff0e069b9275f58929596ceb00d14d90e3e16cd6"
   }
  }
 },
 "nbformat": 4,
 "nbformat_minor": 5
}
